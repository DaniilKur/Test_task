{
 "cells": [
  {
   "cell_type": "markdown",
   "id": "339d7f47-04f7-44eb-9c64-75d96a92ed92",
   "metadata": {},
   "source": [
    "## Тестовое задание на позицию Junior Analyst"
   ]
  },
  {
   "cell_type": "markdown",
   "id": "b8680bbd-a0d4-4758-8bcd-bfde47b33102",
   "metadata": {},
   "source": [
    "### 1 Вопросы"
   ]
  },
  {
   "cell_type": "markdown",
   "id": "eacaffcf-5182-4037-be18-76a01b9d7f6a",
   "metadata": {},
   "source": [
    "1) Как хорошо Вы владеете Python?\n",
    "   \n",
    "    6\n",
    "\n",
    "    Я выбрал такой балл, так как знаком с основами Python и владею библиотеками pandas, plotly, matplotlib, seaborn, stats на нормальном уровне.\n",
    "\n",
    "\n",
    "2) Насколько хорошо Вы знакомы с Google Sheets?\n",
    "\n",
    "    6\n",
    "\n",
    "    Я выбрал такой балл, так как владею базовыми функциями суммы, подсчета, формулы с условием, а также знаком со сводными таблицами и формулой ВПР."
   ]
  },
  {
   "cell_type": "markdown",
   "id": "0c9f342c-ec7f-488f-aaea-44499a94331b",
   "metadata": {},
   "source": [
    "### 2 Задачи на логику"
   ]
  },
  {
   "cell_type": "markdown",
   "id": "5fc63f66-a3de-4e5f-bc24-60307956745c",
   "metadata": {},
   "source": [
    "#### Задача 1"
   ]
  },
  {
   "cell_type": "markdown",
   "id": "36bc52d2-a2fc-4a66-9799-97cd11d8662c",
   "metadata": {},
   "source": [
    "Определим остаток бюджета к полудню"
   ]
  },
  {
   "cell_type": "code",
   "execution_count": 7,
   "id": "b03e112d-a99f-40c3-b1f9-fc5570e67c0d",
   "metadata": {},
   "outputs": [
    {
     "data": {
      "text/plain": [
       "20.0"
      ]
     },
     "execution_count": 7,
     "metadata": {},
     "output_type": "execute_result"
    }
   ],
   "source": [
    "budget = 40\n",
    "budget_noon = budget * 0.5\n",
    "budget_noon"
   ]
  },
  {
   "cell_type": "markdown",
   "id": "1f76fcb6-9245-44bf-96d1-d1b19a88a7fc",
   "metadata": {},
   "source": [
    "Теперь рассчитаем, сколько долларов не было потрачено"
   ]
  },
  {
   "cell_type": "code",
   "execution_count": 9,
   "id": "cb08878d-8bf2-4913-ae66-a49e2994d415",
   "metadata": {},
   "outputs": [
    {
     "data": {
      "text/plain": [
       "4.0"
      ]
     },
     "execution_count": 9,
     "metadata": {},
     "output_type": "execute_result"
    }
   ],
   "source": [
    "budget_unspent = budget_noon - (budget_noon * 0.8)\n",
    "budget_unspent"
   ]
  },
  {
   "cell_type": "markdown",
   "id": "77ae6a6c-f14d-491c-9982-ce7aeeea2786",
   "metadata": {},
   "source": [
    "Ответ: 4$ не было потрачено"
   ]
  },
  {
   "cell_type": "markdown",
   "id": "42fbe97d-a30f-4b31-89f8-62813e4b6d56",
   "metadata": {},
   "source": [
    "#### Задача 2"
   ]
  },
  {
   "cell_type": "markdown",
   "id": "ceb37072-15e6-474a-b933-165e96b9868e",
   "metadata": {},
   "source": [
    "Определим, сколько часов работает 1 рекламная компания"
   ]
  },
  {
   "cell_type": "code",
   "execution_count": 13,
   "id": "94e5111a-8bc4-4277-a742-ca194b276bef",
   "metadata": {},
   "outputs": [
    {
     "name": "stdout",
     "output_type": "stream",
     "text": [
      "1 рекламная компания работает: 144 часов\n"
     ]
    }
   ],
   "source": [
    "advertising_runtime = 24 * 6\n",
    "print(f'1 рекламная компания работает: {advertising_runtime} часов')"
   ]
  },
  {
   "cell_type": "markdown",
   "id": "6c06fb02-4b7b-4f30-a84e-1be5b2d8c097",
   "metadata": {},
   "source": [
    "Определим стоимость 1-го часа работы рекламной компании для 1-ой компании"
   ]
  },
  {
   "cell_type": "code",
   "execution_count": 15,
   "id": "013d13ac-d4cb-44d0-bc9c-56cd23a1cfc2",
   "metadata": {},
   "outputs": [
    {
     "name": "stdout",
     "output_type": "stream",
     "text": [
      "Cтоимость одного часа: 0.16666666666666666$\n"
     ]
    }
   ],
   "source": [
    "budget_for_one_ad = 120/5\n",
    "budget_for_one_ad_h = budget_for_one_ad/advertising_runtime\n",
    "print(f'Cтоимость одного часа: {budget_for_one_ad_h}$')"
   ]
  },
  {
   "cell_type": "markdown",
   "id": "3bb2bdc3-0eac-4fdf-b433-747f73272318",
   "metadata": {},
   "source": [
    "Определим, сколько дней они бы работали на 216 долларов"
   ]
  },
  {
   "cell_type": "code",
   "execution_count": 17,
   "id": "631ad73c-df1f-46ab-92b3-4c28f887bd65",
   "metadata": {},
   "outputs": [
    {
     "data": {
      "text/plain": [
       "18.0"
      ]
     },
     "execution_count": 17,
     "metadata": {},
     "output_type": "execute_result"
    }
   ],
   "source": [
    "budget_for_9 = 216/(9 * budget_for_one_ad_h * 8)\n",
    "budget_for_9"
   ]
  },
  {
   "cell_type": "markdown",
   "id": "bf986a9c-2d72-4c20-84ac-72c27495ba50",
   "metadata": {},
   "source": [
    "Ответ: рекламные компании смогли бы работать на протяжении 18 дней"
   ]
  },
  {
   "cell_type": "markdown",
   "id": "f4873295-23f7-4354-81a7-4eb30591dff6",
   "metadata": {},
   "source": [
    "#### Задание 3"
   ]
  },
  {
   "cell_type": "markdown",
   "id": "245d1ddf-8a1e-4d84-9aa7-61bf30c6770f",
   "metadata": {},
   "source": [
    "Обозначим общее количество банеров только в 1 рекламной компании буквой y, а 2 - z.\n",
    "\n",
    "Всего баннеров в двух компаниях - 200-80=120\n",
    "\n",
    "пусть x- число общих баннеров, тогда получаем систему уравненеий:\n",
    "\n",
    "y+z+x = 120\n",
    "\n",
    "y=60\n",
    "\n",
    "z=3x\n",
    "\n",
    "Подставим значения z и y в первое уравнение:\n",
    "\n",
    "60+3x+x=120\n",
    "\n",
    "4x=60\n",
    "\n",
    "x=15"
   ]
  },
  {
   "cell_type": "markdown",
   "id": "665925fd-95eb-45cd-8662-5bccc1de2ab0",
   "metadata": {},
   "source": [
    "Ответ: в обеих рекламных кампаниях было использовано 15 баннеров"
   ]
  },
  {
   "cell_type": "markdown",
   "id": "486802fd-02b7-49cb-b4f6-4ebc1657809a",
   "metadata": {},
   "source": [
    "#### Задание 4"
   ]
  },
  {
   "cell_type": "markdown",
   "id": "31a44f58-44e5-4b2e-8e95-c860e54c6b7d",
   "metadata": {},
   "source": [
    "Определим предпочтения каждого человека исходя из условия:\n",
    "\n",
    "- Энн: Instagram, YouTube;\n",
    "- Джон: YouTube, FaceBook;\n",
    "- Кейт: YouTobe, FaceBook;\n",
    "- Том: Facebook, Instagram.\n",
    "\n",
    "Исходя из полученных предпочтений, Джон и Кейт обладают одинаковыми увлечениями."
   ]
  },
  {
   "cell_type": "markdown",
   "id": "ba0c1f15-c92c-4c4c-b32a-8e57dbbbb4c8",
   "metadata": {},
   "source": [
    "#### Задание 5"
   ]
  },
  {
   "cell_type": "markdown",
   "id": "084786b5-4206-4222-9d9d-cb111685a0cd",
   "metadata": {},
   "source": [
    "Определим общую сумму баллов за 4 задания"
   ]
  },
  {
   "cell_type": "code",
   "execution_count": 26,
   "id": "dcae4949-885c-4cb7-959d-5913478f120a",
   "metadata": {},
   "outputs": [
    {
     "data": {
      "text/plain": [
       "312"
      ]
     },
     "execution_count": 26,
     "metadata": {},
     "output_type": "execute_result"
    }
   ],
   "source": [
    "78 * 4"
   ]
  },
  {
   "cell_type": "markdown",
   "id": "32b8df2d-16cd-44f9-a798-b81e96fbf8ce",
   "metadata": {},
   "source": [
    "С помощью формулы среднего арифметического определим недостающий балл, где x - балл, который необходимо набрать"
   ]
  },
  {
   "cell_type": "markdown",
   "id": "71a4fcd0-d807-4899-9f62-c8368967dbb3",
   "metadata": {},
   "source": [
    "(312 + x)/5= 80\n",
    "312 + x = 400\n",
    "x = 400-312\n",
    "x = 88"
   ]
  },
  {
   "cell_type": "markdown",
   "id": "366bfec6-c6c6-464f-b812-2a02732167d5",
   "metadata": {},
   "source": [
    "Ответ: за последнее задание сажеру нужно набрать 88 баллов"
   ]
  },
  {
   "cell_type": "markdown",
   "id": "7b9b2f98-b7c9-4d5f-87f8-96315627daa8",
   "metadata": {},
   "source": [
    "#### Задание 6"
   ]
  },
  {
   "cell_type": "markdown",
   "id": "ad1b3059-c4c9-4044-bb4b-846a3b373bcf",
   "metadata": {},
   "source": [
    "Определим время в минутах, за которое автомобиль преодолевает от места получения товаров до заказчика"
   ]
  },
  {
   "cell_type": "code",
   "execution_count": 32,
   "id": "8240f24d-029b-46f2-8366-d415ee923eb5",
   "metadata": {},
   "outputs": [
    {
     "name": "stdout",
     "output_type": "stream",
     "text": [
      "Автомобиль преодолел путь за 195 минут\n"
     ]
    }
   ],
   "source": [
    "one_way_time = int(260/80 * 60)\n",
    "print(f'Автомобиль преодолел путь за {one_way_time} минут')"
   ]
  },
  {
   "cell_type": "markdown",
   "id": "8feed0bc-ec0d-47c1-bf39-91e253ed2b6d",
   "metadata": {},
   "source": [
    "Определим время в минутах, затраченное на обратный путь"
   ]
  },
  {
   "cell_type": "code",
   "execution_count": 34,
   "id": "5b00b5dd-7694-411f-bc99-f72b5e86d077",
   "metadata": {},
   "outputs": [
    {
     "name": "stdout",
     "output_type": "stream",
     "text": [
      "Автомобиль преодолел путь за 156 минут\n"
     ]
    }
   ],
   "source": [
    "other_side_time = int(260/100*60)\n",
    "print(f'Автомобиль преодолел путь за {other_side_time} минут')"
   ]
  },
  {
   "cell_type": "markdown",
   "id": "6b15de48-8d28-44e5-b3ad-57599b87faa3",
   "metadata": {},
   "source": [
    "Рассчитаем, на сколько обратный путь был быстрее"
   ]
  },
  {
   "cell_type": "code",
   "execution_count": 36,
   "id": "5d6804a1-8f2e-4f36-baf5-41c8ac881360",
   "metadata": {},
   "outputs": [
    {
     "name": "stdout",
     "output_type": "stream",
     "text": [
      "Разница во времени: 39\n"
     ]
    }
   ],
   "source": [
    "time_difference = one_way_time-other_side_time\n",
    "print(f'Разница во времени: {time_difference}')"
   ]
  },
  {
   "cell_type": "markdown",
   "id": "b8f45cb9-3e2e-4f68-83b1-882759c5fbcd",
   "metadata": {},
   "source": [
    "Ответ: обратный путь был быстрее на 39 минут"
   ]
  },
  {
   "cell_type": "markdown",
   "id": "eda097fc-9331-4b72-bda4-efada35a6aaf",
   "metadata": {},
   "source": [
    "### Техническое задание "
   ]
  },
  {
   "cell_type": "code",
   "execution_count": 39,
   "id": "a8dbb6bf-4347-4eeb-9551-4d2e8b3bf614",
   "metadata": {},
   "outputs": [],
   "source": [
    "import pandas as pd\n",
    "import seaborn as sns\n",
    "import matplotlib.pyplot as plt\n",
    "import warnings\n",
    "\n",
    "warnings.filterwarnings('ignore')"
   ]
  },
  {
   "cell_type": "code",
   "execution_count": 40,
   "id": "9d5ad9bf-5b49-4e01-aee0-aebd783de2b9",
   "metadata": {},
   "outputs": [],
   "source": [
    "data = pd.read_excel('data.xlsx', sheet_name='Лист1')"
   ]
  },
  {
   "cell_type": "markdown",
   "id": "97f2aae0-b239-4220-ad56-bbe109951f2a",
   "metadata": {},
   "source": [
    "Просмотрим первые 10 строк"
   ]
  },
  {
   "cell_type": "code",
   "execution_count": 42,
   "id": "71763b91-ce6b-4bfd-ab67-53a79d1f2354",
   "metadata": {},
   "outputs": [
    {
     "data": {
      "text/html": [
       "<div>\n",
       "<style scoped>\n",
       "    .dataframe tbody tr th:only-of-type {\n",
       "        vertical-align: middle;\n",
       "    }\n",
       "\n",
       "    .dataframe tbody tr th {\n",
       "        vertical-align: top;\n",
       "    }\n",
       "\n",
       "    .dataframe thead th {\n",
       "        text-align: right;\n",
       "    }\n",
       "</style>\n",
       "<table border=\"1\" class=\"dataframe\">\n",
       "  <thead>\n",
       "    <tr style=\"text-align: right;\">\n",
       "      <th></th>\n",
       "      <th>client_id</th>\n",
       "      <th>sum</th>\n",
       "      <th>status</th>\n",
       "      <th>sale</th>\n",
       "      <th>new/current</th>\n",
       "      <th>Unnamed: 5</th>\n",
       "      <th>document</th>\n",
       "      <th>receiving_date</th>\n",
       "    </tr>\n",
       "  </thead>\n",
       "  <tbody>\n",
       "    <tr>\n",
       "      <th>0</th>\n",
       "      <td>NaN</td>\n",
       "      <td>NaN</td>\n",
       "      <td>Май 2021</td>\n",
       "      <td>NaN</td>\n",
       "      <td>NaN</td>\n",
       "      <td>NaN</td>\n",
       "      <td>NaN</td>\n",
       "      <td>NaN</td>\n",
       "    </tr>\n",
       "    <tr>\n",
       "      <th>1</th>\n",
       "      <td>6.0</td>\n",
       "      <td>11693.7</td>\n",
       "      <td>ВНУТРЕННИЙ</td>\n",
       "      <td>-</td>\n",
       "      <td>-</td>\n",
       "      <td>NaN</td>\n",
       "      <td>-</td>\n",
       "      <td>-</td>\n",
       "    </tr>\n",
       "    <tr>\n",
       "      <th>2</th>\n",
       "      <td>14.0</td>\n",
       "      <td>5452.7</td>\n",
       "      <td>ОПЛАЧЕНО</td>\n",
       "      <td>Петрова</td>\n",
       "      <td>новая</td>\n",
       "      <td>NaN</td>\n",
       "      <td>оригинал</td>\n",
       "      <td>2021-07-26 00:00:00</td>\n",
       "    </tr>\n",
       "    <tr>\n",
       "      <th>3</th>\n",
       "      <td>15.0</td>\n",
       "      <td>13991.7</td>\n",
       "      <td>ОПЛАЧЕНО</td>\n",
       "      <td>Иванов</td>\n",
       "      <td>текущая</td>\n",
       "      <td>NaN</td>\n",
       "      <td>оригинал</td>\n",
       "      <td>2021-06-08 00:00:00</td>\n",
       "    </tr>\n",
       "    <tr>\n",
       "      <th>4</th>\n",
       "      <td>16.0</td>\n",
       "      <td>719.7</td>\n",
       "      <td>ОПЛАЧЕНО</td>\n",
       "      <td>Иванов</td>\n",
       "      <td>текущая</td>\n",
       "      <td>NaN</td>\n",
       "      <td>оригинал</td>\n",
       "      <td>2021-06-08 00:00:00</td>\n",
       "    </tr>\n",
       "    <tr>\n",
       "      <th>5</th>\n",
       "      <td>18.0</td>\n",
       "      <td>4253.7</td>\n",
       "      <td>ОПЛАЧЕНО</td>\n",
       "      <td>Иванов</td>\n",
       "      <td>текущая</td>\n",
       "      <td>NaN</td>\n",
       "      <td>оригинал</td>\n",
       "      <td>2021-07-07 00:00:00</td>\n",
       "    </tr>\n",
       "    <tr>\n",
       "      <th>6</th>\n",
       "      <td>20.0</td>\n",
       "      <td>5796.7</td>\n",
       "      <td>ОПЛАЧЕНО</td>\n",
       "      <td>Кузнецова</td>\n",
       "      <td>текущая</td>\n",
       "      <td>NaN</td>\n",
       "      <td>оригинал</td>\n",
       "      <td>2021-07-15 00:00:00</td>\n",
       "    </tr>\n",
       "    <tr>\n",
       "      <th>7</th>\n",
       "      <td>21.0</td>\n",
       "      <td>3613.7</td>\n",
       "      <td>ОПЛАЧЕНО</td>\n",
       "      <td>Кузнецова</td>\n",
       "      <td>текущая</td>\n",
       "      <td>NaN</td>\n",
       "      <td>оригинал</td>\n",
       "      <td>2021-10-13 00:00:00</td>\n",
       "    </tr>\n",
       "    <tr>\n",
       "      <th>8</th>\n",
       "      <td>23.0</td>\n",
       "      <td>8511.7</td>\n",
       "      <td>ОПЛАЧЕНО</td>\n",
       "      <td>Андреев</td>\n",
       "      <td>текущая</td>\n",
       "      <td>NaN</td>\n",
       "      <td>оригинал</td>\n",
       "      <td>2021-06-08 00:00:00</td>\n",
       "    </tr>\n",
       "    <tr>\n",
       "      <th>9</th>\n",
       "      <td>24.0</td>\n",
       "      <td>16347.7</td>\n",
       "      <td>ОПЛАЧЕНО</td>\n",
       "      <td>Андреев</td>\n",
       "      <td>новая</td>\n",
       "      <td>NaN</td>\n",
       "      <td>оригинал</td>\n",
       "      <td>2021-06-23 00:00:00</td>\n",
       "    </tr>\n",
       "  </tbody>\n",
       "</table>\n",
       "</div>"
      ],
      "text/plain": [
       "   client_id      sum      status       sale new/current  Unnamed: 5  \\\n",
       "0        NaN      NaN    Май 2021        NaN         NaN         NaN   \n",
       "1        6.0  11693.7  ВНУТРЕННИЙ          -           -         NaN   \n",
       "2       14.0   5452.7    ОПЛАЧЕНО    Петрова       новая         NaN   \n",
       "3       15.0  13991.7    ОПЛАЧЕНО     Иванов     текущая         NaN   \n",
       "4       16.0    719.7    ОПЛАЧЕНО     Иванов     текущая         NaN   \n",
       "5       18.0   4253.7    ОПЛАЧЕНО     Иванов     текущая         NaN   \n",
       "6       20.0   5796.7    ОПЛАЧЕНО  Кузнецова     текущая         NaN   \n",
       "7       21.0   3613.7    ОПЛАЧЕНО  Кузнецова     текущая         NaN   \n",
       "8       23.0   8511.7    ОПЛАЧЕНО    Андреев     текущая         NaN   \n",
       "9       24.0  16347.7    ОПЛАЧЕНО    Андреев       новая         NaN   \n",
       "\n",
       "   document       receiving_date  \n",
       "0       NaN                  NaN  \n",
       "1         -                    -  \n",
       "2  оригинал  2021-07-26 00:00:00  \n",
       "3  оригинал  2021-06-08 00:00:00  \n",
       "4  оригинал  2021-06-08 00:00:00  \n",
       "5  оригинал  2021-07-07 00:00:00  \n",
       "6  оригинал  2021-07-15 00:00:00  \n",
       "7  оригинал  2021-10-13 00:00:00  \n",
       "8  оригинал  2021-06-08 00:00:00  \n",
       "9  оригинал  2021-06-23 00:00:00  "
      ]
     },
     "execution_count": 42,
     "metadata": {},
     "output_type": "execute_result"
    }
   ],
   "source": [
    "data.head(10)"
   ]
  },
  {
   "cell_type": "code",
   "execution_count": 43,
   "id": "b787d914-8a72-4f02-b40c-95ed78eaace2",
   "metadata": {},
   "outputs": [
    {
     "name": "stdout",
     "output_type": "stream",
     "text": [
      "<class 'pandas.core.frame.DataFrame'>\n",
      "RangeIndex: 730 entries, 0 to 729\n",
      "Data columns (total 8 columns):\n",
      " #   Column          Non-Null Count  Dtype  \n",
      "---  ------          --------------  -----  \n",
      " 0   client_id       724 non-null    float64\n",
      " 1   sum             724 non-null    float64\n",
      " 2   status          730 non-null    object \n",
      " 3   sale            724 non-null    object \n",
      " 4   new/current     724 non-null    object \n",
      " 5   Unnamed: 5      0 non-null      float64\n",
      " 6   document        709 non-null    object \n",
      " 7   receiving_date  607 non-null    object \n",
      "dtypes: float64(3), object(5)\n",
      "memory usage: 45.8+ KB\n"
     ]
    }
   ],
   "source": [
    "data.info()"
   ]
  },
  {
   "cell_type": "code",
   "execution_count": 44,
   "id": "2f0e4514-8082-430a-a85f-e29d03eee5ae",
   "metadata": {},
   "outputs": [
    {
     "data": {
      "text/plain": [
       "count      724.000000\n",
       "mean      7162.542030\n",
       "std       6308.571297\n",
       "min         23.700000\n",
       "25%       3114.732500\n",
       "50%       5207.990000\n",
       "75%       8934.950000\n",
       "max      39713.500000\n",
       "Name: sum, dtype: float64"
      ]
     },
     "execution_count": 44,
     "metadata": {},
     "output_type": "execute_result"
    }
   ],
   "source": [
    "data['sum'].describe()"
   ]
  },
  {
   "cell_type": "markdown",
   "id": "a901ec7b-07c2-40d2-a710-c7142e85a94d",
   "metadata": {},
   "source": [
    "Удалим столбец 'Unnamed: 5' так как в нем нет данных"
   ]
  },
  {
   "cell_type": "code",
   "execution_count": 46,
   "id": "2d8568f5-5c5d-4e3c-8348-f43397240adc",
   "metadata": {},
   "outputs": [
    {
     "data": {
      "text/html": [
       "<div>\n",
       "<style scoped>\n",
       "    .dataframe tbody tr th:only-of-type {\n",
       "        vertical-align: middle;\n",
       "    }\n",
       "\n",
       "    .dataframe tbody tr th {\n",
       "        vertical-align: top;\n",
       "    }\n",
       "\n",
       "    .dataframe thead th {\n",
       "        text-align: right;\n",
       "    }\n",
       "</style>\n",
       "<table border=\"1\" class=\"dataframe\">\n",
       "  <thead>\n",
       "    <tr style=\"text-align: right;\">\n",
       "      <th></th>\n",
       "      <th>client_id</th>\n",
       "      <th>sum</th>\n",
       "      <th>status</th>\n",
       "      <th>sale</th>\n",
       "      <th>new/current</th>\n",
       "      <th>document</th>\n",
       "      <th>receiving_date</th>\n",
       "    </tr>\n",
       "  </thead>\n",
       "  <tbody>\n",
       "    <tr>\n",
       "      <th>0</th>\n",
       "      <td>NaN</td>\n",
       "      <td>NaN</td>\n",
       "      <td>Май 2021</td>\n",
       "      <td>NaN</td>\n",
       "      <td>NaN</td>\n",
       "      <td>NaN</td>\n",
       "      <td>NaN</td>\n",
       "    </tr>\n",
       "    <tr>\n",
       "      <th>1</th>\n",
       "      <td>6.0</td>\n",
       "      <td>11693.7</td>\n",
       "      <td>ВНУТРЕННИЙ</td>\n",
       "      <td>-</td>\n",
       "      <td>-</td>\n",
       "      <td>-</td>\n",
       "      <td>-</td>\n",
       "    </tr>\n",
       "    <tr>\n",
       "      <th>2</th>\n",
       "      <td>14.0</td>\n",
       "      <td>5452.7</td>\n",
       "      <td>ОПЛАЧЕНО</td>\n",
       "      <td>Петрова</td>\n",
       "      <td>новая</td>\n",
       "      <td>оригинал</td>\n",
       "      <td>2021-07-26 00:00:00</td>\n",
       "    </tr>\n",
       "    <tr>\n",
       "      <th>3</th>\n",
       "      <td>15.0</td>\n",
       "      <td>13991.7</td>\n",
       "      <td>ОПЛАЧЕНО</td>\n",
       "      <td>Иванов</td>\n",
       "      <td>текущая</td>\n",
       "      <td>оригинал</td>\n",
       "      <td>2021-06-08 00:00:00</td>\n",
       "    </tr>\n",
       "    <tr>\n",
       "      <th>4</th>\n",
       "      <td>16.0</td>\n",
       "      <td>719.7</td>\n",
       "      <td>ОПЛАЧЕНО</td>\n",
       "      <td>Иванов</td>\n",
       "      <td>текущая</td>\n",
       "      <td>оригинал</td>\n",
       "      <td>2021-06-08 00:00:00</td>\n",
       "    </tr>\n",
       "  </tbody>\n",
       "</table>\n",
       "</div>"
      ],
      "text/plain": [
       "   client_id      sum      status     sale new/current  document  \\\n",
       "0        NaN      NaN    Май 2021      NaN         NaN       NaN   \n",
       "1        6.0  11693.7  ВНУТРЕННИЙ        -           -         -   \n",
       "2       14.0   5452.7    ОПЛАЧЕНО  Петрова       новая  оригинал   \n",
       "3       15.0  13991.7    ОПЛАЧЕНО   Иванов     текущая  оригинал   \n",
       "4       16.0    719.7    ОПЛАЧЕНО   Иванов     текущая  оригинал   \n",
       "\n",
       "        receiving_date  \n",
       "0                  NaN  \n",
       "1                    -  \n",
       "2  2021-07-26 00:00:00  \n",
       "3  2021-06-08 00:00:00  \n",
       "4  2021-06-08 00:00:00  "
      ]
     },
     "execution_count": 46,
     "metadata": {},
     "output_type": "execute_result"
    }
   ],
   "source": [
    "data = data.drop('Unnamed: 5', axis=1)\n",
    "data.head()"
   ]
  },
  {
   "cell_type": "markdown",
   "id": "19def787-1ec4-4965-8fab-341a1b571e79",
   "metadata": {},
   "source": [
    "Изменим тип данных столбца 'reciving_date'"
   ]
  },
  {
   "cell_type": "code",
   "execution_count": 48,
   "id": "cbf4373b-f7a2-4901-9eb4-13f9bbab2487",
   "metadata": {},
   "outputs": [],
   "source": [
    "data['receiving_date'] = pd.to_datetime(data['receiving_date'], format='%d.%m.%y', errors='coerce')"
   ]
  },
  {
   "cell_type": "markdown",
   "id": "7eed6263-c582-4a61-a51a-cacdbf81deeb",
   "metadata": {},
   "source": [
    "Приведем к нижнему регистру значения столбцов 'status', 'sale', 'new/current', 'document', чтобы проверить корректность данных"
   ]
  },
  {
   "cell_type": "code",
   "execution_count": 50,
   "id": "3c9e6e32-04b3-43d8-9a4f-1ca1815d9b60",
   "metadata": {},
   "outputs": [],
   "source": [
    "for col in ['status', 'sale', 'new/current', 'document']:\n",
    "    data[col] = data[col].str.lower()"
   ]
  },
  {
   "cell_type": "markdown",
   "id": "abeb4f14-0df0-4f03-ba84-05470c44e707",
   "metadata": {},
   "source": [
    "Определим уникальные значения для столбца 'status'"
   ]
  },
  {
   "cell_type": "code",
   "execution_count": 52,
   "id": "4234b587-f0ad-42a5-9e60-8e8b5e9cc4e5",
   "metadata": {},
   "outputs": [
    {
     "data": {
      "text/plain": [
       "array(['май 2021', 'внутренний', 'оплачено', 'просрочено', 'июнь 2021',\n",
       "       'июль 2021', 'август 2021', 'в работе', 'сентябрь 2021',\n",
       "       'октябрь 2021', 'на подписании'], dtype=object)"
      ]
     },
     "execution_count": 52,
     "metadata": {},
     "output_type": "execute_result"
    }
   ],
   "source": [
    "data['status'].unique()"
   ]
  },
  {
   "cell_type": "code",
   "execution_count": 53,
   "id": "863b4411-eb41-4bf1-91ad-1353478faa75",
   "metadata": {},
   "outputs": [],
   "source": [
    "status_un = ['май 2021', 'внутренний','июнь 2021', \\\n",
    "       'июль 2021', 'август 2021', 'сентябрь 2021', \\\n",
    "       'октябрь 2021']"
   ]
  },
  {
   "cell_type": "code",
   "execution_count": 54,
   "id": "63e2b15c-bb2a-4501-b839-da91d53106d9",
   "metadata": {},
   "outputs": [
    {
     "data": {
      "text/html": [
       "<div>\n",
       "<style scoped>\n",
       "    .dataframe tbody tr th:only-of-type {\n",
       "        vertical-align: middle;\n",
       "    }\n",
       "\n",
       "    .dataframe tbody tr th {\n",
       "        vertical-align: top;\n",
       "    }\n",
       "\n",
       "    .dataframe thead th {\n",
       "        text-align: right;\n",
       "    }\n",
       "</style>\n",
       "<table border=\"1\" class=\"dataframe\">\n",
       "  <thead>\n",
       "    <tr style=\"text-align: right;\">\n",
       "      <th></th>\n",
       "      <th>client_id</th>\n",
       "      <th>sum</th>\n",
       "      <th>status</th>\n",
       "      <th>sale</th>\n",
       "      <th>new/current</th>\n",
       "      <th>document</th>\n",
       "      <th>receiving_date</th>\n",
       "    </tr>\n",
       "  </thead>\n",
       "  <tbody>\n",
       "    <tr>\n",
       "      <th>0</th>\n",
       "      <td>NaN</td>\n",
       "      <td>NaN</td>\n",
       "      <td>май 2021</td>\n",
       "      <td>NaN</td>\n",
       "      <td>NaN</td>\n",
       "      <td>NaN</td>\n",
       "      <td>NaT</td>\n",
       "    </tr>\n",
       "    <tr>\n",
       "      <th>1</th>\n",
       "      <td>6.0</td>\n",
       "      <td>11693.7</td>\n",
       "      <td>внутренний</td>\n",
       "      <td>-</td>\n",
       "      <td>-</td>\n",
       "      <td>-</td>\n",
       "      <td>NaT</td>\n",
       "    </tr>\n",
       "    <tr>\n",
       "      <th>129</th>\n",
       "      <td>NaN</td>\n",
       "      <td>NaN</td>\n",
       "      <td>июнь 2021</td>\n",
       "      <td>NaN</td>\n",
       "      <td>NaN</td>\n",
       "      <td>NaN</td>\n",
       "      <td>NaT</td>\n",
       "    </tr>\n",
       "    <tr>\n",
       "      <th>258</th>\n",
       "      <td>NaN</td>\n",
       "      <td>NaN</td>\n",
       "      <td>июль 2021</td>\n",
       "      <td>NaN</td>\n",
       "      <td>NaN</td>\n",
       "      <td>NaN</td>\n",
       "      <td>NaT</td>\n",
       "    </tr>\n",
       "    <tr>\n",
       "      <th>369</th>\n",
       "      <td>NaN</td>\n",
       "      <td>NaN</td>\n",
       "      <td>август 2021</td>\n",
       "      <td>NaN</td>\n",
       "      <td>NaN</td>\n",
       "      <td>NaN</td>\n",
       "      <td>NaT</td>\n",
       "    </tr>\n",
       "    <tr>\n",
       "      <th>484</th>\n",
       "      <td>NaN</td>\n",
       "      <td>NaN</td>\n",
       "      <td>сентябрь 2021</td>\n",
       "      <td>NaN</td>\n",
       "      <td>NaN</td>\n",
       "      <td>NaN</td>\n",
       "      <td>NaT</td>\n",
       "    </tr>\n",
       "    <tr>\n",
       "      <th>594</th>\n",
       "      <td>NaN</td>\n",
       "      <td>NaN</td>\n",
       "      <td>октябрь 2021</td>\n",
       "      <td>NaN</td>\n",
       "      <td>NaN</td>\n",
       "      <td>NaN</td>\n",
       "      <td>NaT</td>\n",
       "    </tr>\n",
       "  </tbody>\n",
       "</table>\n",
       "</div>"
      ],
      "text/plain": [
       "     client_id      sum         status sale new/current document  \\\n",
       "0          NaN      NaN       май 2021  NaN         NaN      NaN   \n",
       "1          6.0  11693.7     внутренний    -           -        -   \n",
       "129        NaN      NaN      июнь 2021  NaN         NaN      NaN   \n",
       "258        NaN      NaN      июль 2021  NaN         NaN      NaN   \n",
       "369        NaN      NaN    август 2021  NaN         NaN      NaN   \n",
       "484        NaN      NaN  сентябрь 2021  NaN         NaN      NaN   \n",
       "594        NaN      NaN   октябрь 2021  NaN         NaN      NaN   \n",
       "\n",
       "    receiving_date  \n",
       "0              NaT  \n",
       "1              NaT  \n",
       "129            NaT  \n",
       "258            NaT  \n",
       "369            NaT  \n",
       "484            NaT  \n",
       "594            NaT  "
      ]
     },
     "execution_count": 54,
     "metadata": {},
     "output_type": "execute_result"
    }
   ],
   "source": [
    "data[data['status'].isin(status_un)]"
   ]
  },
  {
   "cell_type": "code",
   "execution_count": 55,
   "id": "a0734259-e53b-4a27-b1b5-dea7bac7689e",
   "metadata": {},
   "outputs": [
    {
     "data": {
      "text/html": [
       "<div>\n",
       "<style scoped>\n",
       "    .dataframe tbody tr th:only-of-type {\n",
       "        vertical-align: middle;\n",
       "    }\n",
       "\n",
       "    .dataframe tbody tr th {\n",
       "        vertical-align: top;\n",
       "    }\n",
       "\n",
       "    .dataframe thead th {\n",
       "        text-align: right;\n",
       "    }\n",
       "</style>\n",
       "<table border=\"1\" class=\"dataframe\">\n",
       "  <thead>\n",
       "    <tr style=\"text-align: right;\">\n",
       "      <th></th>\n",
       "      <th>client_id</th>\n",
       "      <th>sum</th>\n",
       "      <th>status</th>\n",
       "      <th>sale</th>\n",
       "      <th>new/current</th>\n",
       "      <th>document</th>\n",
       "      <th>receiving_date</th>\n",
       "    </tr>\n",
       "  </thead>\n",
       "  <tbody>\n",
       "    <tr>\n",
       "      <th>0</th>\n",
       "      <td>NaN</td>\n",
       "      <td>NaN</td>\n",
       "      <td>май 2021</td>\n",
       "      <td>NaN</td>\n",
       "      <td>NaN</td>\n",
       "      <td>NaN</td>\n",
       "      <td>NaT</td>\n",
       "    </tr>\n",
       "    <tr>\n",
       "      <th>2</th>\n",
       "      <td>14.0</td>\n",
       "      <td>5452.7</td>\n",
       "      <td>оплачено</td>\n",
       "      <td>петрова</td>\n",
       "      <td>новая</td>\n",
       "      <td>оригинал</td>\n",
       "      <td>2021-07-26</td>\n",
       "    </tr>\n",
       "    <tr>\n",
       "      <th>3</th>\n",
       "      <td>15.0</td>\n",
       "      <td>13991.7</td>\n",
       "      <td>оплачено</td>\n",
       "      <td>иванов</td>\n",
       "      <td>текущая</td>\n",
       "      <td>оригинал</td>\n",
       "      <td>2021-06-08</td>\n",
       "    </tr>\n",
       "    <tr>\n",
       "      <th>4</th>\n",
       "      <td>16.0</td>\n",
       "      <td>719.7</td>\n",
       "      <td>оплачено</td>\n",
       "      <td>иванов</td>\n",
       "      <td>текущая</td>\n",
       "      <td>оригинал</td>\n",
       "      <td>2021-06-08</td>\n",
       "    </tr>\n",
       "  </tbody>\n",
       "</table>\n",
       "</div>"
      ],
      "text/plain": [
       "   client_id      sum    status     sale new/current  document receiving_date\n",
       "0        NaN      NaN  май 2021      NaN         NaN       NaN            NaT\n",
       "2       14.0   5452.7  оплачено  петрова       новая  оригинал     2021-07-26\n",
       "3       15.0  13991.7  оплачено   иванов     текущая  оригинал     2021-06-08\n",
       "4       16.0    719.7  оплачено   иванов     текущая  оригинал     2021-06-08"
      ]
     },
     "execution_count": 55,
     "metadata": {},
     "output_type": "execute_result"
    }
   ],
   "source": [
    "data = data.drop(1, axis=0, errors='ignore')\n",
    "data.head(4)"
   ]
  },
  {
   "cell_type": "code",
   "execution_count": 56,
   "id": "35a31f50-1b0a-4725-be4c-776eed2e0bfc",
   "metadata": {},
   "outputs": [
    {
     "data": {
      "text/plain": [
       "array([nan, 'петрова', 'иванов', 'кузнецова', 'андреев', 'филимонова',\n",
       "       'селиванов', 'смирнов', 'васильев', 'соколов', 'михайлов', 'попов'],\n",
       "      dtype=object)"
      ]
     },
     "execution_count": 56,
     "metadata": {},
     "output_type": "execute_result"
    }
   ],
   "source": [
    "data['sale'].unique()"
   ]
  },
  {
   "cell_type": "code",
   "execution_count": 57,
   "id": "7690fd9a-2c49-4141-b8fd-d572b1a2e21b",
   "metadata": {},
   "outputs": [
    {
     "data": {
      "text/plain": [
       "array([nan, 'новая', 'текущая'], dtype=object)"
      ]
     },
     "execution_count": 57,
     "metadata": {},
     "output_type": "execute_result"
    }
   ],
   "source": [
    "data['new/current'].unique()"
   ]
  },
  {
   "cell_type": "code",
   "execution_count": 58,
   "id": "642db104-9ebc-4a30-95b2-6b5cf8adaf7a",
   "metadata": {},
   "outputs": [
    {
     "data": {
      "text/plain": [
       "array([nan, 'оригинал', 'нет'], dtype=object)"
      ]
     },
     "execution_count": 58,
     "metadata": {},
     "output_type": "execute_result"
    }
   ],
   "source": [
    "data['document'].unique()"
   ]
  },
  {
   "cell_type": "code",
   "execution_count": 59,
   "id": "f82bb70e-4c65-44e3-9dcb-57fc0d0d86e3",
   "metadata": {},
   "outputs": [
    {
     "data": {
      "text/html": [
       "<div>\n",
       "<style scoped>\n",
       "    .dataframe tbody tr th:only-of-type {\n",
       "        vertical-align: middle;\n",
       "    }\n",
       "\n",
       "    .dataframe tbody tr th {\n",
       "        vertical-align: top;\n",
       "    }\n",
       "\n",
       "    .dataframe thead th {\n",
       "        text-align: right;\n",
       "    }\n",
       "</style>\n",
       "<table border=\"1\" class=\"dataframe\">\n",
       "  <thead>\n",
       "    <tr style=\"text-align: right;\">\n",
       "      <th></th>\n",
       "      <th>client_id</th>\n",
       "      <th>sum</th>\n",
       "      <th>status</th>\n",
       "      <th>sale</th>\n",
       "      <th>new/current</th>\n",
       "      <th>document</th>\n",
       "      <th>receiving_date</th>\n",
       "    </tr>\n",
       "  </thead>\n",
       "  <tbody>\n",
       "    <tr>\n",
       "      <th>0</th>\n",
       "      <td>NaN</td>\n",
       "      <td>NaN</td>\n",
       "      <td>май 2021</td>\n",
       "      <td>NaN</td>\n",
       "      <td>NaN</td>\n",
       "      <td>NaN</td>\n",
       "      <td>NaT</td>\n",
       "    </tr>\n",
       "    <tr>\n",
       "      <th>47</th>\n",
       "      <td>87.0</td>\n",
       "      <td>9948.7</td>\n",
       "      <td>оплачено</td>\n",
       "      <td>смирнов</td>\n",
       "      <td>новая</td>\n",
       "      <td>NaN</td>\n",
       "      <td>2021-06-17</td>\n",
       "    </tr>\n",
       "    <tr>\n",
       "      <th>48</th>\n",
       "      <td>90.0</td>\n",
       "      <td>16123.7</td>\n",
       "      <td>оплачено</td>\n",
       "      <td>смирнов</td>\n",
       "      <td>текущая</td>\n",
       "      <td>NaN</td>\n",
       "      <td>2021-07-28</td>\n",
       "    </tr>\n",
       "    <tr>\n",
       "      <th>49</th>\n",
       "      <td>91.0</td>\n",
       "      <td>1053.7</td>\n",
       "      <td>оплачено</td>\n",
       "      <td>смирнов</td>\n",
       "      <td>текущая</td>\n",
       "      <td>NaN</td>\n",
       "      <td>2021-07-28</td>\n",
       "    </tr>\n",
       "    <tr>\n",
       "      <th>93</th>\n",
       "      <td>198.0</td>\n",
       "      <td>4458.7</td>\n",
       "      <td>оплачено</td>\n",
       "      <td>смирнов</td>\n",
       "      <td>текущая</td>\n",
       "      <td>NaN</td>\n",
       "      <td>2021-07-01</td>\n",
       "    </tr>\n",
       "    <tr>\n",
       "      <th>129</th>\n",
       "      <td>NaN</td>\n",
       "      <td>NaN</td>\n",
       "      <td>июнь 2021</td>\n",
       "      <td>NaN</td>\n",
       "      <td>NaN</td>\n",
       "      <td>NaN</td>\n",
       "      <td>NaT</td>\n",
       "    </tr>\n",
       "    <tr>\n",
       "      <th>189</th>\n",
       "      <td>115.0</td>\n",
       "      <td>298.7</td>\n",
       "      <td>оплачено</td>\n",
       "      <td>андреев</td>\n",
       "      <td>текущая</td>\n",
       "      <td>NaN</td>\n",
       "      <td>2021-07-14</td>\n",
       "    </tr>\n",
       "    <tr>\n",
       "      <th>258</th>\n",
       "      <td>NaN</td>\n",
       "      <td>NaN</td>\n",
       "      <td>июль 2021</td>\n",
       "      <td>NaN</td>\n",
       "      <td>NaN</td>\n",
       "      <td>NaN</td>\n",
       "      <td>NaT</td>\n",
       "    </tr>\n",
       "    <tr>\n",
       "      <th>337</th>\n",
       "      <td>228.0</td>\n",
       "      <td>2193.7</td>\n",
       "      <td>оплачено</td>\n",
       "      <td>смирнов</td>\n",
       "      <td>текущая</td>\n",
       "      <td>NaN</td>\n",
       "      <td>2021-10-06</td>\n",
       "    </tr>\n",
       "    <tr>\n",
       "      <th>369</th>\n",
       "      <td>NaN</td>\n",
       "      <td>NaN</td>\n",
       "      <td>август 2021</td>\n",
       "      <td>NaN</td>\n",
       "      <td>NaN</td>\n",
       "      <td>NaN</td>\n",
       "      <td>NaT</td>\n",
       "    </tr>\n",
       "    <tr>\n",
       "      <th>376</th>\n",
       "      <td>32.0</td>\n",
       "      <td>7101.7</td>\n",
       "      <td>оплачено</td>\n",
       "      <td>филимонова</td>\n",
       "      <td>текущая</td>\n",
       "      <td>NaN</td>\n",
       "      <td>2021-10-06</td>\n",
       "    </tr>\n",
       "    <tr>\n",
       "      <th>409</th>\n",
       "      <td>90.0</td>\n",
       "      <td>8454.2</td>\n",
       "      <td>оплачено</td>\n",
       "      <td>смирнов</td>\n",
       "      <td>текущая</td>\n",
       "      <td>NaN</td>\n",
       "      <td>2021-09-20</td>\n",
       "    </tr>\n",
       "    <tr>\n",
       "      <th>453</th>\n",
       "      <td>339.0</td>\n",
       "      <td>7553.7</td>\n",
       "      <td>оплачено</td>\n",
       "      <td>петрова</td>\n",
       "      <td>новая</td>\n",
       "      <td>NaN</td>\n",
       "      <td>2021-10-11</td>\n",
       "    </tr>\n",
       "    <tr>\n",
       "      <th>459</th>\n",
       "      <td>256.0</td>\n",
       "      <td>2351.2</td>\n",
       "      <td>оплачено</td>\n",
       "      <td>филимонова</td>\n",
       "      <td>текущая</td>\n",
       "      <td>NaN</td>\n",
       "      <td>NaT</td>\n",
       "    </tr>\n",
       "    <tr>\n",
       "      <th>484</th>\n",
       "      <td>NaN</td>\n",
       "      <td>NaN</td>\n",
       "      <td>сентябрь 2021</td>\n",
       "      <td>NaN</td>\n",
       "      <td>NaN</td>\n",
       "      <td>NaN</td>\n",
       "      <td>NaT</td>\n",
       "    </tr>\n",
       "    <tr>\n",
       "      <th>488</th>\n",
       "      <td>24.0</td>\n",
       "      <td>18142.7</td>\n",
       "      <td>оплачено</td>\n",
       "      <td>андреев</td>\n",
       "      <td>текущая</td>\n",
       "      <td>NaN</td>\n",
       "      <td>2021-10-15</td>\n",
       "    </tr>\n",
       "    <tr>\n",
       "      <th>489</th>\n",
       "      <td>30.0</td>\n",
       "      <td>3833.7</td>\n",
       "      <td>в работе</td>\n",
       "      <td>филимонова</td>\n",
       "      <td>текущая</td>\n",
       "      <td>NaN</td>\n",
       "      <td>NaT</td>\n",
       "    </tr>\n",
       "    <tr>\n",
       "      <th>513</th>\n",
       "      <td>329.0</td>\n",
       "      <td>5353.7</td>\n",
       "      <td>оплачено</td>\n",
       "      <td>андреев</td>\n",
       "      <td>текущая</td>\n",
       "      <td>NaN</td>\n",
       "      <td>2021-10-11</td>\n",
       "    </tr>\n",
       "    <tr>\n",
       "      <th>594</th>\n",
       "      <td>NaN</td>\n",
       "      <td>NaN</td>\n",
       "      <td>октябрь 2021</td>\n",
       "      <td>NaN</td>\n",
       "      <td>NaN</td>\n",
       "      <td>NaN</td>\n",
       "      <td>NaT</td>\n",
       "    </tr>\n",
       "    <tr>\n",
       "      <th>689</th>\n",
       "      <td>228.0</td>\n",
       "      <td>6393.7</td>\n",
       "      <td>оплачено</td>\n",
       "      <td>смирнов</td>\n",
       "      <td>текущая</td>\n",
       "      <td>NaN</td>\n",
       "      <td>NaT</td>\n",
       "    </tr>\n",
       "    <tr>\n",
       "      <th>690</th>\n",
       "      <td>228.0</td>\n",
       "      <td>1603.7</td>\n",
       "      <td>оплачено</td>\n",
       "      <td>смирнов</td>\n",
       "      <td>текущая</td>\n",
       "      <td>NaN</td>\n",
       "      <td>NaT</td>\n",
       "    </tr>\n",
       "  </tbody>\n",
       "</table>\n",
       "</div>"
      ],
      "text/plain": [
       "     client_id      sum         status        sale new/current document  \\\n",
       "0          NaN      NaN       май 2021         NaN         NaN      NaN   \n",
       "47        87.0   9948.7       оплачено     смирнов       новая      NaN   \n",
       "48        90.0  16123.7       оплачено     смирнов     текущая      NaN   \n",
       "49        91.0   1053.7       оплачено     смирнов     текущая      NaN   \n",
       "93       198.0   4458.7       оплачено     смирнов     текущая      NaN   \n",
       "129        NaN      NaN      июнь 2021         NaN         NaN      NaN   \n",
       "189      115.0    298.7       оплачено     андреев     текущая      NaN   \n",
       "258        NaN      NaN      июль 2021         NaN         NaN      NaN   \n",
       "337      228.0   2193.7       оплачено     смирнов     текущая      NaN   \n",
       "369        NaN      NaN    август 2021         NaN         NaN      NaN   \n",
       "376       32.0   7101.7       оплачено  филимонова     текущая      NaN   \n",
       "409       90.0   8454.2       оплачено     смирнов     текущая      NaN   \n",
       "453      339.0   7553.7       оплачено     петрова       новая      NaN   \n",
       "459      256.0   2351.2       оплачено  филимонова     текущая      NaN   \n",
       "484        NaN      NaN  сентябрь 2021         NaN         NaN      NaN   \n",
       "488       24.0  18142.7       оплачено     андреев     текущая      NaN   \n",
       "489       30.0   3833.7       в работе  филимонова     текущая      NaN   \n",
       "513      329.0   5353.7       оплачено     андреев     текущая      NaN   \n",
       "594        NaN      NaN   октябрь 2021         NaN         NaN      NaN   \n",
       "689      228.0   6393.7       оплачено     смирнов     текущая      NaN   \n",
       "690      228.0   1603.7       оплачено     смирнов     текущая      NaN   \n",
       "\n",
       "    receiving_date  \n",
       "0              NaT  \n",
       "47      2021-06-17  \n",
       "48      2021-07-28  \n",
       "49      2021-07-28  \n",
       "93      2021-07-01  \n",
       "129            NaT  \n",
       "189     2021-07-14  \n",
       "258            NaT  \n",
       "337     2021-10-06  \n",
       "369            NaT  \n",
       "376     2021-10-06  \n",
       "409     2021-09-20  \n",
       "453     2021-10-11  \n",
       "459            NaT  \n",
       "484            NaT  \n",
       "488     2021-10-15  \n",
       "489            NaT  \n",
       "513     2021-10-11  \n",
       "594            NaT  \n",
       "689            NaT  \n",
       "690            NaT  "
      ]
     },
     "execution_count": 59,
     "metadata": {},
     "output_type": "execute_result"
    }
   ],
   "source": [
    "data[data['document'].isnull()]"
   ]
  },
  {
   "cell_type": "markdown",
   "id": "f1e02886-ba91-45ae-a45a-bf9b17bc59af",
   "metadata": {},
   "source": [
    "Заполним столбец document: где если есть дата напишем 'оригинал', а где отсутствует'нет'"
   ]
  },
  {
   "cell_type": "code",
   "execution_count": 61,
   "id": "000ce2a9-534e-4ac7-816a-0bc4acc6d762",
   "metadata": {},
   "outputs": [],
   "source": [
    "def fill_document(row):\n",
    "    \"\"\"\n",
    "    Данная функция заполнит пропуски в столбце document на 'оригинал', если присутствует дата в столбце receiving_date, иначе вернет 'нет'\n",
    "    \"\"\"\n",
    "    if pd.notna(row['receiving_date']):\n",
    "        return 'оригинал'\n",
    "    return 'нет'"
   ]
  },
  {
   "cell_type": "code",
   "execution_count": 62,
   "id": "84b81df0-36d5-4e47-a4e6-85a51d830ff4",
   "metadata": {},
   "outputs": [],
   "source": [
    "data['document'] = data.apply(fill_document, axis=1)"
   ]
  },
  {
   "cell_type": "code",
   "execution_count": 63,
   "id": "a01bdf07-7f95-439e-9b8e-9b5c82a4125b",
   "metadata": {},
   "outputs": [
    {
     "data": {
      "text/html": [
       "<div>\n",
       "<style scoped>\n",
       "    .dataframe tbody tr th:only-of-type {\n",
       "        vertical-align: middle;\n",
       "    }\n",
       "\n",
       "    .dataframe tbody tr th {\n",
       "        vertical-align: top;\n",
       "    }\n",
       "\n",
       "    .dataframe thead th {\n",
       "        text-align: right;\n",
       "    }\n",
       "</style>\n",
       "<table border=\"1\" class=\"dataframe\">\n",
       "  <thead>\n",
       "    <tr style=\"text-align: right;\">\n",
       "      <th></th>\n",
       "      <th>client_id</th>\n",
       "      <th>sum</th>\n",
       "      <th>status</th>\n",
       "      <th>sale</th>\n",
       "      <th>new/current</th>\n",
       "      <th>document</th>\n",
       "      <th>receiving_date</th>\n",
       "    </tr>\n",
       "  </thead>\n",
       "  <tbody>\n",
       "  </tbody>\n",
       "</table>\n",
       "</div>"
      ],
      "text/plain": [
       "Empty DataFrame\n",
       "Columns: [client_id, sum, status, sale, new/current, document, receiving_date]\n",
       "Index: []"
      ]
     },
     "execution_count": 63,
     "metadata": {},
     "output_type": "execute_result"
    }
   ],
   "source": [
    "data[data['document'].isnull()]"
   ]
  },
  {
   "cell_type": "code",
   "execution_count": 64,
   "id": "26f7a111-9cbe-4f6f-bd4b-800bfb783089",
   "metadata": {},
   "outputs": [
    {
     "name": "stdout",
     "output_type": "stream",
     "text": [
      "<class 'pandas.core.frame.DataFrame'>\n",
      "Index: 729 entries, 0 to 729\n",
      "Data columns (total 7 columns):\n",
      " #   Column          Non-Null Count  Dtype         \n",
      "---  ------          --------------  -----         \n",
      " 0   client_id       723 non-null    float64       \n",
      " 1   sum             723 non-null    float64       \n",
      " 2   status          729 non-null    object        \n",
      " 3   sale            723 non-null    object        \n",
      " 4   new/current     723 non-null    object        \n",
      " 5   document        729 non-null    object        \n",
      " 6   receiving_date  606 non-null    datetime64[ns]\n",
      "dtypes: datetime64[ns](1), float64(2), object(4)\n",
      "memory usage: 45.6+ KB\n"
     ]
    }
   ],
   "source": [
    "data.info()"
   ]
  },
  {
   "cell_type": "markdown",
   "id": "553c7b64-97bf-4ad4-92c1-732e6f44c7ad",
   "metadata": {},
   "source": [
    "Проверим наличие дубликатов"
   ]
  },
  {
   "cell_type": "code",
   "execution_count": 66,
   "id": "2471cc8d-da9b-4039-a6a3-c1445f308ae3",
   "metadata": {},
   "outputs": [
    {
     "data": {
      "text/plain": [
       "35"
      ]
     },
     "execution_count": 66,
     "metadata": {},
     "output_type": "execute_result"
    }
   ],
   "source": [
    "data.duplicated().sum()"
   ]
  },
  {
   "cell_type": "code",
   "execution_count": 67,
   "id": "6730e95a-b078-4cb0-a7c2-1fe66e317c38",
   "metadata": {},
   "outputs": [
    {
     "data": {
      "text/plain": [
       "0"
      ]
     },
     "execution_count": 67,
     "metadata": {},
     "output_type": "execute_result"
    }
   ],
   "source": [
    "data = data.drop_duplicates()\n",
    "data.duplicated().sum()"
   ]
  },
  {
   "cell_type": "code",
   "execution_count": 68,
   "id": "9293aac4-ed57-4835-912d-ef2ea9e8dad9",
   "metadata": {},
   "outputs": [
    {
     "data": {
      "text/html": [
       "<div>\n",
       "<style scoped>\n",
       "    .dataframe tbody tr th:only-of-type {\n",
       "        vertical-align: middle;\n",
       "    }\n",
       "\n",
       "    .dataframe tbody tr th {\n",
       "        vertical-align: top;\n",
       "    }\n",
       "\n",
       "    .dataframe thead th {\n",
       "        text-align: right;\n",
       "    }\n",
       "</style>\n",
       "<table border=\"1\" class=\"dataframe\">\n",
       "  <thead>\n",
       "    <tr style=\"text-align: right;\">\n",
       "      <th></th>\n",
       "      <th>client_id</th>\n",
       "      <th>sum</th>\n",
       "      <th>status</th>\n",
       "      <th>sale</th>\n",
       "      <th>new/current</th>\n",
       "      <th>document</th>\n",
       "      <th>receiving_date</th>\n",
       "    </tr>\n",
       "  </thead>\n",
       "  <tbody>\n",
       "    <tr>\n",
       "      <th>505</th>\n",
       "      <td>46.0</td>\n",
       "      <td>4945.7</td>\n",
       "      <td>оплачено</td>\n",
       "      <td>петрова</td>\n",
       "      <td>текущая</td>\n",
       "      <td>нет</td>\n",
       "      <td>NaT</td>\n",
       "    </tr>\n",
       "    <tr>\n",
       "      <th>617</th>\n",
       "      <td>46.0</td>\n",
       "      <td>4945.7</td>\n",
       "      <td>просрочено</td>\n",
       "      <td>петрова</td>\n",
       "      <td>текущая</td>\n",
       "      <td>нет</td>\n",
       "      <td>NaT</td>\n",
       "    </tr>\n",
       "    <tr>\n",
       "      <th>508</th>\n",
       "      <td>49.0</td>\n",
       "      <td>7203.7</td>\n",
       "      <td>оплачено</td>\n",
       "      <td>петрова</td>\n",
       "      <td>текущая</td>\n",
       "      <td>нет</td>\n",
       "      <td>NaT</td>\n",
       "    </tr>\n",
       "    <tr>\n",
       "      <th>619</th>\n",
       "      <td>49.0</td>\n",
       "      <td>7203.7</td>\n",
       "      <td>просрочено</td>\n",
       "      <td>петрова</td>\n",
       "      <td>текущая</td>\n",
       "      <td>нет</td>\n",
       "      <td>NaT</td>\n",
       "    </tr>\n",
       "    <tr>\n",
       "      <th>509</th>\n",
       "      <td>59.0</td>\n",
       "      <td>3938.7</td>\n",
       "      <td>оплачено</td>\n",
       "      <td>петрова</td>\n",
       "      <td>текущая</td>\n",
       "      <td>нет</td>\n",
       "      <td>NaT</td>\n",
       "    </tr>\n",
       "    <tr>\n",
       "      <th>620</th>\n",
       "      <td>59.0</td>\n",
       "      <td>3938.7</td>\n",
       "      <td>просрочено</td>\n",
       "      <td>петрова</td>\n",
       "      <td>текущая</td>\n",
       "      <td>нет</td>\n",
       "      <td>NaT</td>\n",
       "    </tr>\n",
       "    <tr>\n",
       "      <th>403</th>\n",
       "      <td>329.0</td>\n",
       "      <td>5353.7</td>\n",
       "      <td>оплачено</td>\n",
       "      <td>андреев</td>\n",
       "      <td>новая</td>\n",
       "      <td>оригинал</td>\n",
       "      <td>2021-10-11</td>\n",
       "    </tr>\n",
       "    <tr>\n",
       "      <th>513</th>\n",
       "      <td>329.0</td>\n",
       "      <td>5353.7</td>\n",
       "      <td>оплачено</td>\n",
       "      <td>андреев</td>\n",
       "      <td>текущая</td>\n",
       "      <td>оригинал</td>\n",
       "      <td>2021-10-11</td>\n",
       "    </tr>\n",
       "    <tr>\n",
       "      <th>726</th>\n",
       "      <td>360.0</td>\n",
       "      <td>3096.2</td>\n",
       "      <td>оплачено</td>\n",
       "      <td>васильев</td>\n",
       "      <td>новая</td>\n",
       "      <td>нет</td>\n",
       "      <td>NaT</td>\n",
       "    </tr>\n",
       "    <tr>\n",
       "      <th>727</th>\n",
       "      <td>360.0</td>\n",
       "      <td>3096.2</td>\n",
       "      <td>просрочено</td>\n",
       "      <td>васильев</td>\n",
       "      <td>новая</td>\n",
       "      <td>нет</td>\n",
       "      <td>NaT</td>\n",
       "    </tr>\n",
       "    <tr>\n",
       "      <th>0</th>\n",
       "      <td>NaN</td>\n",
       "      <td>NaN</td>\n",
       "      <td>май 2021</td>\n",
       "      <td>NaN</td>\n",
       "      <td>NaN</td>\n",
       "      <td>нет</td>\n",
       "      <td>NaT</td>\n",
       "    </tr>\n",
       "    <tr>\n",
       "      <th>129</th>\n",
       "      <td>NaN</td>\n",
       "      <td>NaN</td>\n",
       "      <td>июнь 2021</td>\n",
       "      <td>NaN</td>\n",
       "      <td>NaN</td>\n",
       "      <td>нет</td>\n",
       "      <td>NaT</td>\n",
       "    </tr>\n",
       "    <tr>\n",
       "      <th>258</th>\n",
       "      <td>NaN</td>\n",
       "      <td>NaN</td>\n",
       "      <td>июль 2021</td>\n",
       "      <td>NaN</td>\n",
       "      <td>NaN</td>\n",
       "      <td>нет</td>\n",
       "      <td>NaT</td>\n",
       "    </tr>\n",
       "    <tr>\n",
       "      <th>369</th>\n",
       "      <td>NaN</td>\n",
       "      <td>NaN</td>\n",
       "      <td>август 2021</td>\n",
       "      <td>NaN</td>\n",
       "      <td>NaN</td>\n",
       "      <td>нет</td>\n",
       "      <td>NaT</td>\n",
       "    </tr>\n",
       "    <tr>\n",
       "      <th>484</th>\n",
       "      <td>NaN</td>\n",
       "      <td>NaN</td>\n",
       "      <td>сентябрь 2021</td>\n",
       "      <td>NaN</td>\n",
       "      <td>NaN</td>\n",
       "      <td>нет</td>\n",
       "      <td>NaT</td>\n",
       "    </tr>\n",
       "    <tr>\n",
       "      <th>594</th>\n",
       "      <td>NaN</td>\n",
       "      <td>NaN</td>\n",
       "      <td>октябрь 2021</td>\n",
       "      <td>NaN</td>\n",
       "      <td>NaN</td>\n",
       "      <td>нет</td>\n",
       "      <td>NaT</td>\n",
       "    </tr>\n",
       "  </tbody>\n",
       "</table>\n",
       "</div>"
      ],
      "text/plain": [
       "     client_id     sum         status      sale new/current  document  \\\n",
       "505       46.0  4945.7       оплачено   петрова     текущая       нет   \n",
       "617       46.0  4945.7     просрочено   петрова     текущая       нет   \n",
       "508       49.0  7203.7       оплачено   петрова     текущая       нет   \n",
       "619       49.0  7203.7     просрочено   петрова     текущая       нет   \n",
       "509       59.0  3938.7       оплачено   петрова     текущая       нет   \n",
       "620       59.0  3938.7     просрочено   петрова     текущая       нет   \n",
       "403      329.0  5353.7       оплачено   андреев       новая  оригинал   \n",
       "513      329.0  5353.7       оплачено   андреев     текущая  оригинал   \n",
       "726      360.0  3096.2       оплачено  васильев       новая       нет   \n",
       "727      360.0  3096.2     просрочено  васильев       новая       нет   \n",
       "0          NaN     NaN       май 2021       NaN         NaN       нет   \n",
       "129        NaN     NaN      июнь 2021       NaN         NaN       нет   \n",
       "258        NaN     NaN      июль 2021       NaN         NaN       нет   \n",
       "369        NaN     NaN    август 2021       NaN         NaN       нет   \n",
       "484        NaN     NaN  сентябрь 2021       NaN         NaN       нет   \n",
       "594        NaN     NaN   октябрь 2021       NaN         NaN       нет   \n",
       "\n",
       "    receiving_date  \n",
       "505            NaT  \n",
       "617            NaT  \n",
       "508            NaT  \n",
       "619            NaT  \n",
       "509            NaT  \n",
       "620            NaT  \n",
       "403     2021-10-11  \n",
       "513     2021-10-11  \n",
       "726            NaT  \n",
       "727            NaT  \n",
       "0              NaT  \n",
       "129            NaT  \n",
       "258            NaT  \n",
       "369            NaT  \n",
       "484            NaT  \n",
       "594            NaT  "
      ]
     },
     "execution_count": 68,
     "metadata": {},
     "output_type": "execute_result"
    }
   ],
   "source": [
    "data[data.duplicated(subset=['client_id', 'sum', 'receiving_date'], keep=False)].sort_values('client_id')"
   ]
  },
  {
   "cell_type": "markdown",
   "id": "192139fc-9401-4b09-98ad-4701cc4dd377",
   "metadata": {},
   "source": [
    "Сначала добавим столбец с месяцем сделки, затем удалим дубликаты"
   ]
  },
  {
   "cell_type": "code",
   "execution_count": 70,
   "id": "fd59bba4-474b-4314-bc33-4a4812f86c55",
   "metadata": {},
   "outputs": [],
   "source": [
    "def month_deal(row):\n",
    "    \"\"\"\n",
    "    Данная функция присваивает месяц сделки по индексу\n",
    "    \"\"\"\n",
    "    if row.name < 129:\n",
    "        return '2021-05'\n",
    "    elif 129 <= row.name < 258:\n",
    "        return '2021-06'\n",
    "    elif 258 <= row.name < 369:\n",
    "        return '2021-07'\n",
    "    elif 369 <= row.name < 484:\n",
    "        return '2021-08'\n",
    "    elif 484 <= row.name < 594:\n",
    "        return '2021-09'\n",
    "    else:\n",
    "        return '2021-10'"
   ]
  },
  {
   "cell_type": "code",
   "execution_count": 71,
   "id": "b5a8ca6e-ea09-4e67-8066-3ab89173d349",
   "metadata": {},
   "outputs": [
    {
     "data": {
      "text/html": [
       "<div>\n",
       "<style scoped>\n",
       "    .dataframe tbody tr th:only-of-type {\n",
       "        vertical-align: middle;\n",
       "    }\n",
       "\n",
       "    .dataframe tbody tr th {\n",
       "        vertical-align: top;\n",
       "    }\n",
       "\n",
       "    .dataframe thead th {\n",
       "        text-align: right;\n",
       "    }\n",
       "</style>\n",
       "<table border=\"1\" class=\"dataframe\">\n",
       "  <thead>\n",
       "    <tr style=\"text-align: right;\">\n",
       "      <th></th>\n",
       "      <th>client_id</th>\n",
       "      <th>sum</th>\n",
       "      <th>status</th>\n",
       "      <th>sale</th>\n",
       "      <th>new/current</th>\n",
       "      <th>document</th>\n",
       "      <th>receiving_date</th>\n",
       "      <th>month_deal</th>\n",
       "    </tr>\n",
       "  </thead>\n",
       "  <tbody>\n",
       "    <tr>\n",
       "      <th>625</th>\n",
       "      <td>292.0</td>\n",
       "      <td>3453.7</td>\n",
       "      <td>на подписании</td>\n",
       "      <td>андреев</td>\n",
       "      <td>новая</td>\n",
       "      <td>нет</td>\n",
       "      <td>NaT</td>\n",
       "      <td>2021-10</td>\n",
       "    </tr>\n",
       "    <tr>\n",
       "      <th>10</th>\n",
       "      <td>28.0</td>\n",
       "      <td>10537.7</td>\n",
       "      <td>оплачено</td>\n",
       "      <td>андреев</td>\n",
       "      <td>текущая</td>\n",
       "      <td>оригинал</td>\n",
       "      <td>2021-06-16</td>\n",
       "      <td>2021-05</td>\n",
       "    </tr>\n",
       "    <tr>\n",
       "      <th>518</th>\n",
       "      <td>293.0</td>\n",
       "      <td>12587.7</td>\n",
       "      <td>оплачено</td>\n",
       "      <td>смирнов</td>\n",
       "      <td>новая</td>\n",
       "      <td>нет</td>\n",
       "      <td>NaT</td>\n",
       "      <td>2021-09</td>\n",
       "    </tr>\n",
       "    <tr>\n",
       "      <th>149</th>\n",
       "      <td>48.0</td>\n",
       "      <td>4452.7</td>\n",
       "      <td>оплачено</td>\n",
       "      <td>петрова</td>\n",
       "      <td>текущая</td>\n",
       "      <td>оригинал</td>\n",
       "      <td>2021-09-06</td>\n",
       "      <td>2021-06</td>\n",
       "    </tr>\n",
       "    <tr>\n",
       "      <th>189</th>\n",
       "      <td>115.0</td>\n",
       "      <td>298.7</td>\n",
       "      <td>оплачено</td>\n",
       "      <td>андреев</td>\n",
       "      <td>текущая</td>\n",
       "      <td>оригинал</td>\n",
       "      <td>2021-07-14</td>\n",
       "      <td>2021-06</td>\n",
       "    </tr>\n",
       "    <tr>\n",
       "      <th>339</th>\n",
       "      <td>239.0</td>\n",
       "      <td>7638.7</td>\n",
       "      <td>оплачено</td>\n",
       "      <td>петрова</td>\n",
       "      <td>текущая</td>\n",
       "      <td>оригинал</td>\n",
       "      <td>2021-08-30</td>\n",
       "      <td>2021-07</td>\n",
       "    </tr>\n",
       "    <tr>\n",
       "      <th>132</th>\n",
       "      <td>16.0</td>\n",
       "      <td>985.3</td>\n",
       "      <td>оплачено</td>\n",
       "      <td>иванов</td>\n",
       "      <td>текущая</td>\n",
       "      <td>оригинал</td>\n",
       "      <td>2021-07-09</td>\n",
       "      <td>2021-06</td>\n",
       "    </tr>\n",
       "    <tr>\n",
       "      <th>119</th>\n",
       "      <td>264.0</td>\n",
       "      <td>6163.7</td>\n",
       "      <td>оплачено</td>\n",
       "      <td>смирнов</td>\n",
       "      <td>текущая</td>\n",
       "      <td>оригинал</td>\n",
       "      <td>2021-07-27</td>\n",
       "      <td>2021-05</td>\n",
       "    </tr>\n",
       "    <tr>\n",
       "      <th>381</th>\n",
       "      <td>322.0</td>\n",
       "      <td>19953.7</td>\n",
       "      <td>просрочено</td>\n",
       "      <td>филимонова</td>\n",
       "      <td>текущая</td>\n",
       "      <td>нет</td>\n",
       "      <td>NaT</td>\n",
       "      <td>2021-08</td>\n",
       "    </tr>\n",
       "    <tr>\n",
       "      <th>364</th>\n",
       "      <td>277.0</td>\n",
       "      <td>4878.7</td>\n",
       "      <td>оплачено</td>\n",
       "      <td>филимонова</td>\n",
       "      <td>текущая</td>\n",
       "      <td>оригинал</td>\n",
       "      <td>2021-08-03</td>\n",
       "      <td>2021-07</td>\n",
       "    </tr>\n",
       "  </tbody>\n",
       "</table>\n",
       "</div>"
      ],
      "text/plain": [
       "     client_id      sum         status        sale new/current  document  \\\n",
       "625      292.0   3453.7  на подписании     андреев       новая       нет   \n",
       "10        28.0  10537.7       оплачено     андреев     текущая  оригинал   \n",
       "518      293.0  12587.7       оплачено     смирнов       новая       нет   \n",
       "149       48.0   4452.7       оплачено     петрова     текущая  оригинал   \n",
       "189      115.0    298.7       оплачено     андреев     текущая  оригинал   \n",
       "339      239.0   7638.7       оплачено     петрова     текущая  оригинал   \n",
       "132       16.0    985.3       оплачено      иванов     текущая  оригинал   \n",
       "119      264.0   6163.7       оплачено     смирнов     текущая  оригинал   \n",
       "381      322.0  19953.7     просрочено  филимонова     текущая       нет   \n",
       "364      277.0   4878.7       оплачено  филимонова     текущая  оригинал   \n",
       "\n",
       "    receiving_date month_deal  \n",
       "625            NaT    2021-10  \n",
       "10      2021-06-16    2021-05  \n",
       "518            NaT    2021-09  \n",
       "149     2021-09-06    2021-06  \n",
       "189     2021-07-14    2021-06  \n",
       "339     2021-08-30    2021-07  \n",
       "132     2021-07-09    2021-06  \n",
       "119     2021-07-27    2021-05  \n",
       "381            NaT    2021-08  \n",
       "364     2021-08-03    2021-07  "
      ]
     },
     "execution_count": 71,
     "metadata": {},
     "output_type": "execute_result"
    }
   ],
   "source": [
    "data['month_deal'] = data.apply(month_deal, axis=1)\n",
    "data.sample(10)"
   ]
  },
  {
   "cell_type": "code",
   "execution_count": 72,
   "id": "50dafae4-60de-4f47-af9b-9a5a9fd905dd",
   "metadata": {},
   "outputs": [],
   "source": [
    "data = data.drop_duplicates(subset=['client_id', 'sum', 'receiving_date'])"
   ]
  },
  {
   "cell_type": "code",
   "execution_count": 73,
   "id": "53cb0da1-c71e-4ad8-8a3a-b2a8691a0d52",
   "metadata": {},
   "outputs": [
    {
     "data": {
      "text/plain": [
       "Timestamp('2021-11-15 00:00:00')"
      ]
     },
     "execution_count": 73,
     "metadata": {},
     "output_type": "execute_result"
    }
   ],
   "source": [
    "data['receiving_date'].max()"
   ]
  },
  {
   "cell_type": "code",
   "execution_count": 74,
   "id": "ab6f20e9-a038-4a12-bda2-c3ee81df384c",
   "metadata": {},
   "outputs": [
    {
     "data": {
      "text/html": [
       "<div>\n",
       "<style scoped>\n",
       "    .dataframe tbody tr th:only-of-type {\n",
       "        vertical-align: middle;\n",
       "    }\n",
       "\n",
       "    .dataframe tbody tr th {\n",
       "        vertical-align: top;\n",
       "    }\n",
       "\n",
       "    .dataframe thead th {\n",
       "        text-align: right;\n",
       "    }\n",
       "</style>\n",
       "<table border=\"1\" class=\"dataframe\">\n",
       "  <thead>\n",
       "    <tr style=\"text-align: right;\">\n",
       "      <th></th>\n",
       "      <th>client_id</th>\n",
       "      <th>sum</th>\n",
       "      <th>status</th>\n",
       "      <th>sale</th>\n",
       "      <th>new/current</th>\n",
       "      <th>document</th>\n",
       "      <th>receiving_date</th>\n",
       "      <th>month_deal</th>\n",
       "    </tr>\n",
       "  </thead>\n",
       "  <tbody>\n",
       "    <tr>\n",
       "      <th>0</th>\n",
       "      <td>NaN</td>\n",
       "      <td>NaN</td>\n",
       "      <td>май 2021</td>\n",
       "      <td>NaN</td>\n",
       "      <td>NaN</td>\n",
       "      <td>нет</td>\n",
       "      <td>NaT</td>\n",
       "      <td>2021-05</td>\n",
       "    </tr>\n",
       "  </tbody>\n",
       "</table>\n",
       "</div>"
      ],
      "text/plain": [
       "   client_id  sum    status sale new/current document receiving_date  \\\n",
       "0        NaN  NaN  май 2021  NaN         NaN      нет            NaT   \n",
       "\n",
       "  month_deal  \n",
       "0    2021-05  "
      ]
     },
     "execution_count": 74,
     "metadata": {},
     "output_type": "execute_result"
    }
   ],
   "source": [
    "data[data['status'].isin(status_un)]"
   ]
  },
  {
   "cell_type": "code",
   "execution_count": 75,
   "id": "24496145-4bd3-404c-a295-e5c07888b615",
   "metadata": {},
   "outputs": [
    {
     "data": {
      "text/html": [
       "<div>\n",
       "<style scoped>\n",
       "    .dataframe tbody tr th:only-of-type {\n",
       "        vertical-align: middle;\n",
       "    }\n",
       "\n",
       "    .dataframe tbody tr th {\n",
       "        vertical-align: top;\n",
       "    }\n",
       "\n",
       "    .dataframe thead th {\n",
       "        text-align: right;\n",
       "    }\n",
       "</style>\n",
       "<table border=\"1\" class=\"dataframe\">\n",
       "  <thead>\n",
       "    <tr style=\"text-align: right;\">\n",
       "      <th></th>\n",
       "      <th>client_id</th>\n",
       "      <th>sum</th>\n",
       "      <th>status</th>\n",
       "      <th>sale</th>\n",
       "      <th>new/current</th>\n",
       "      <th>document</th>\n",
       "      <th>receiving_date</th>\n",
       "      <th>month_deal</th>\n",
       "    </tr>\n",
       "  </thead>\n",
       "  <tbody>\n",
       "    <tr>\n",
       "      <th>2</th>\n",
       "      <td>14.0</td>\n",
       "      <td>5452.7</td>\n",
       "      <td>оплачено</td>\n",
       "      <td>петрова</td>\n",
       "      <td>новая</td>\n",
       "      <td>оригинал</td>\n",
       "      <td>2021-07-26</td>\n",
       "      <td>2021-05</td>\n",
       "    </tr>\n",
       "    <tr>\n",
       "      <th>3</th>\n",
       "      <td>15.0</td>\n",
       "      <td>13991.7</td>\n",
       "      <td>оплачено</td>\n",
       "      <td>иванов</td>\n",
       "      <td>текущая</td>\n",
       "      <td>оригинал</td>\n",
       "      <td>2021-06-08</td>\n",
       "      <td>2021-05</td>\n",
       "    </tr>\n",
       "    <tr>\n",
       "      <th>4</th>\n",
       "      <td>16.0</td>\n",
       "      <td>719.7</td>\n",
       "      <td>оплачено</td>\n",
       "      <td>иванов</td>\n",
       "      <td>текущая</td>\n",
       "      <td>оригинал</td>\n",
       "      <td>2021-06-08</td>\n",
       "      <td>2021-05</td>\n",
       "    </tr>\n",
       "    <tr>\n",
       "      <th>5</th>\n",
       "      <td>18.0</td>\n",
       "      <td>4253.7</td>\n",
       "      <td>оплачено</td>\n",
       "      <td>иванов</td>\n",
       "      <td>текущая</td>\n",
       "      <td>оригинал</td>\n",
       "      <td>2021-07-07</td>\n",
       "      <td>2021-05</td>\n",
       "    </tr>\n",
       "  </tbody>\n",
       "</table>\n",
       "</div>"
      ],
      "text/plain": [
       "   client_id      sum    status     sale new/current  document receiving_date  \\\n",
       "2       14.0   5452.7  оплачено  петрова       новая  оригинал     2021-07-26   \n",
       "3       15.0  13991.7  оплачено   иванов     текущая  оригинал     2021-06-08   \n",
       "4       16.0    719.7  оплачено   иванов     текущая  оригинал     2021-06-08   \n",
       "5       18.0   4253.7  оплачено   иванов     текущая  оригинал     2021-07-07   \n",
       "\n",
       "  month_deal  \n",
       "2    2021-05  \n",
       "3    2021-05  \n",
       "4    2021-05  \n",
       "5    2021-05  "
      ]
     },
     "execution_count": 75,
     "metadata": {},
     "output_type": "execute_result"
    }
   ],
   "source": [
    "data.drop(0, inplace=True)\n",
    "data.head(4)"
   ]
  },
  {
   "cell_type": "markdown",
   "id": "ac514720-bc2a-4c3a-a8b3-8958b267f679",
   "metadata": {},
   "source": [
    "#### Вопрос 1"
   ]
  },
  {
   "cell_type": "code",
   "execution_count": 77,
   "id": "e9741958-5c3a-4f04-a9cf-c5ce4de0a278",
   "metadata": {},
   "outputs": [
    {
     "data": {
      "text/html": [
       "<div>\n",
       "<style scoped>\n",
       "    .dataframe tbody tr th:only-of-type {\n",
       "        vertical-align: middle;\n",
       "    }\n",
       "\n",
       "    .dataframe tbody tr th {\n",
       "        vertical-align: top;\n",
       "    }\n",
       "\n",
       "    .dataframe thead th {\n",
       "        text-align: right;\n",
       "    }\n",
       "</style>\n",
       "<table border=\"1\" class=\"dataframe\">\n",
       "  <thead>\n",
       "    <tr style=\"text-align: right;\">\n",
       "      <th></th>\n",
       "      <th>client_id</th>\n",
       "      <th>sum</th>\n",
       "      <th>status</th>\n",
       "      <th>sale</th>\n",
       "      <th>new/current</th>\n",
       "      <th>document</th>\n",
       "      <th>receiving_date</th>\n",
       "      <th>month_deal</th>\n",
       "    </tr>\n",
       "  </thead>\n",
       "  <tbody>\n",
       "    <tr>\n",
       "      <th>259</th>\n",
       "      <td>15.0</td>\n",
       "      <td>13838.7</td>\n",
       "      <td>оплачено</td>\n",
       "      <td>иванов</td>\n",
       "      <td>текущая</td>\n",
       "      <td>оригинал</td>\n",
       "      <td>2021-08-09</td>\n",
       "      <td>2021-07</td>\n",
       "    </tr>\n",
       "    <tr>\n",
       "      <th>260</th>\n",
       "      <td>16.0</td>\n",
       "      <td>1586.5</td>\n",
       "      <td>оплачено</td>\n",
       "      <td>иванов</td>\n",
       "      <td>текущая</td>\n",
       "      <td>оригинал</td>\n",
       "      <td>2021-08-09</td>\n",
       "      <td>2021-07</td>\n",
       "    </tr>\n",
       "    <tr>\n",
       "      <th>261</th>\n",
       "      <td>18.0</td>\n",
       "      <td>2996.7</td>\n",
       "      <td>оплачено</td>\n",
       "      <td>иванов</td>\n",
       "      <td>текущая</td>\n",
       "      <td>нет</td>\n",
       "      <td>NaT</td>\n",
       "      <td>2021-07</td>\n",
       "    </tr>\n",
       "    <tr>\n",
       "      <th>262</th>\n",
       "      <td>21.0</td>\n",
       "      <td>4313.7</td>\n",
       "      <td>оплачено</td>\n",
       "      <td>кузнецова</td>\n",
       "      <td>текущая</td>\n",
       "      <td>оригинал</td>\n",
       "      <td>2021-09-17</td>\n",
       "      <td>2021-07</td>\n",
       "    </tr>\n",
       "    <tr>\n",
       "      <th>263</th>\n",
       "      <td>24.0</td>\n",
       "      <td>19407.7</td>\n",
       "      <td>оплачено</td>\n",
       "      <td>андреев</td>\n",
       "      <td>текущая</td>\n",
       "      <td>оригинал</td>\n",
       "      <td>2021-08-19</td>\n",
       "      <td>2021-07</td>\n",
       "    </tr>\n",
       "  </tbody>\n",
       "</table>\n",
       "</div>"
      ],
      "text/plain": [
       "     client_id      sum    status       sale new/current  document  \\\n",
       "259       15.0  13838.7  оплачено     иванов     текущая  оригинал   \n",
       "260       16.0   1586.5  оплачено     иванов     текущая  оригинал   \n",
       "261       18.0   2996.7  оплачено     иванов     текущая       нет   \n",
       "262       21.0   4313.7  оплачено  кузнецова     текущая  оригинал   \n",
       "263       24.0  19407.7  оплачено    андреев     текущая  оригинал   \n",
       "\n",
       "    receiving_date month_deal  \n",
       "259     2021-08-09    2021-07  \n",
       "260     2021-08-09    2021-07  \n",
       "261            NaT    2021-07  \n",
       "262     2021-09-17    2021-07  \n",
       "263     2021-08-19    2021-07  "
      ]
     },
     "execution_count": 77,
     "metadata": {},
     "output_type": "execute_result"
    }
   ],
   "source": [
    "revenue_july = data.query(\"month_deal == '2021-07' & status != 'просрочено'\")\n",
    "revenue_july.head()"
   ]
  },
  {
   "cell_type": "code",
   "execution_count": 78,
   "id": "c8457fb9-ac4a-49c3-bc16-0f9d3176edbf",
   "metadata": {},
   "outputs": [
    {
     "name": "stdout",
     "output_type": "stream",
     "text": [
      "Общая выручка за июль 2021 без просроченных сделок: 826622.67\n"
     ]
    }
   ],
   "source": [
    "print(f'Общая выручка за июль 2021 без просроченных сделок: {round(revenue_july[\"sum\"].sum(), 2)}')"
   ]
  },
  {
   "cell_type": "markdown",
   "id": "87864cff-1518-4a1c-9502-5dc094038aaf",
   "metadata": {},
   "source": [
    "#### Вопрос 2"
   ]
  },
  {
   "cell_type": "code",
   "execution_count": 80,
   "id": "5e44846b-0087-4133-8d86-5a244ce9f83f",
   "metadata": {},
   "outputs": [],
   "source": [
    "revenue = data.dropna(subset=['receiving_date']).pivot_table(index='month_deal', values='sum', aggfunc='sum').reset_index()"
   ]
  },
  {
   "cell_type": "code",
   "execution_count": 81,
   "id": "791b896c-75c1-432e-a996-d0960767b74f",
   "metadata": {},
   "outputs": [
    {
     "data": {
      "text/html": [
       "<div>\n",
       "<style scoped>\n",
       "    .dataframe tbody tr th:only-of-type {\n",
       "        vertical-align: middle;\n",
       "    }\n",
       "\n",
       "    .dataframe tbody tr th {\n",
       "        vertical-align: top;\n",
       "    }\n",
       "\n",
       "    .dataframe thead th {\n",
       "        text-align: right;\n",
       "    }\n",
       "</style>\n",
       "<table border=\"1\" class=\"dataframe\">\n",
       "  <thead>\n",
       "    <tr style=\"text-align: right;\">\n",
       "      <th></th>\n",
       "      <th>month_deal</th>\n",
       "      <th>sum</th>\n",
       "    </tr>\n",
       "  </thead>\n",
       "  <tbody>\n",
       "    <tr>\n",
       "      <th>0</th>\n",
       "      <td>2021-05</td>\n",
       "      <td>793177.39</td>\n",
       "    </tr>\n",
       "    <tr>\n",
       "      <th>1</th>\n",
       "      <td>2021-06</td>\n",
       "      <td>777119.01</td>\n",
       "    </tr>\n",
       "    <tr>\n",
       "      <th>2</th>\n",
       "      <td>2021-07</td>\n",
       "      <td>823625.97</td>\n",
       "    </tr>\n",
       "    <tr>\n",
       "      <th>3</th>\n",
       "      <td>2021-08</td>\n",
       "      <td>778485.09</td>\n",
       "    </tr>\n",
       "    <tr>\n",
       "      <th>4</th>\n",
       "      <td>2021-09</td>\n",
       "      <td>681100.31</td>\n",
       "    </tr>\n",
       "    <tr>\n",
       "      <th>5</th>\n",
       "      <td>2021-10</td>\n",
       "      <td>324051.80</td>\n",
       "    </tr>\n",
       "  </tbody>\n",
       "</table>\n",
       "</div>"
      ],
      "text/plain": [
       "  month_deal        sum\n",
       "0    2021-05  793177.39\n",
       "1    2021-06  777119.01\n",
       "2    2021-07  823625.97\n",
       "3    2021-08  778485.09\n",
       "4    2021-09  681100.31\n",
       "5    2021-10  324051.80"
      ]
     },
     "execution_count": 81,
     "metadata": {},
     "output_type": "execute_result"
    }
   ],
   "source": [
    "revenue"
   ]
  },
  {
   "cell_type": "code",
   "execution_count": 82,
   "id": "e2f0c68b-1912-4a6d-885a-93f7158491f6",
   "metadata": {},
   "outputs": [
    {
     "data": {
      "image/png": "[encoded data removed]",
      "text/plain": [
       "<Figure size 1000x700 with 1 Axes>"
      ]
     },
     "metadata": {},
     "output_type": "display_data"
    }
   ],
   "source": [
    "plt.figure(figsize=(10,7))\n",
    "sns.lineplot(revenue, x='month_deal', y='sum')\n",
    "plt.xlabel('Год\\месяц')\n",
    "plt.ylabel('Выручка')\n",
    "plt.ylim(0)\n",
    "plt.title('Изменение выручки во времени')\n",
    "plt.show()"
   ]
  },
  {
   "cell_type": "markdown",
   "id": "94b9f506-6bc4-4c32-bd89-729317dd7328",
   "metadata": {},
   "source": [
    "Вывод: с мая по октябрь 2021 года выручка компании была относительно стабильной, с небольшим ростом. Однако с августа 2021 года начался спад, который продолжался до октября, когда выручка достигла минимального значения."
   ]
  },
  {
   "cell_type": "markdown",
   "id": "1b0d3c29-aac9-44a3-82d0-7bc20d41999e",
   "metadata": {},
   "source": [
    "#### Вопрос 3"
   ]
  },
  {
   "cell_type": "code",
   "execution_count": 85,
   "id": "339cbfb6-cac7-483f-a80b-41cbfd58647e",
   "metadata": {},
   "outputs": [
    {
     "data": {
      "text/html": [
       "<div>\n",
       "<style scoped>\n",
       "    .dataframe tbody tr th:only-of-type {\n",
       "        vertical-align: middle;\n",
       "    }\n",
       "\n",
       "    .dataframe tbody tr th {\n",
       "        vertical-align: top;\n",
       "    }\n",
       "\n",
       "    .dataframe thead th {\n",
       "        text-align: right;\n",
       "    }\n",
       "</style>\n",
       "<table border=\"1\" class=\"dataframe\">\n",
       "  <thead>\n",
       "    <tr style=\"text-align: right;\">\n",
       "      <th></th>\n",
       "      <th>sale</th>\n",
       "      <th>sum</th>\n",
       "    </tr>\n",
       "  </thead>\n",
       "  <tbody>\n",
       "    <tr>\n",
       "      <th>6</th>\n",
       "      <td>смирнов</td>\n",
       "      <td>195817.20</td>\n",
       "    </tr>\n",
       "    <tr>\n",
       "      <th>0</th>\n",
       "      <td>андреев</td>\n",
       "      <td>124623.90</td>\n",
       "    </tr>\n",
       "    <tr>\n",
       "      <th>5</th>\n",
       "      <td>петрова</td>\n",
       "      <td>94830.46</td>\n",
       "    </tr>\n",
       "    <tr>\n",
       "      <th>2</th>\n",
       "      <td>иванов</td>\n",
       "      <td>94476.90</td>\n",
       "    </tr>\n",
       "    <tr>\n",
       "      <th>3</th>\n",
       "      <td>кузнецова</td>\n",
       "      <td>72228.40</td>\n",
       "    </tr>\n",
       "    <tr>\n",
       "      <th>1</th>\n",
       "      <td>васильев</td>\n",
       "      <td>45416.75</td>\n",
       "    </tr>\n",
       "    <tr>\n",
       "      <th>8</th>\n",
       "      <td>филимонова</td>\n",
       "      <td>39020.80</td>\n",
       "    </tr>\n",
       "    <tr>\n",
       "      <th>7</th>\n",
       "      <td>соколов</td>\n",
       "      <td>35183.50</td>\n",
       "    </tr>\n",
       "    <tr>\n",
       "      <th>4</th>\n",
       "      <td>михайлов</td>\n",
       "      <td>4268.70</td>\n",
       "    </tr>\n",
       "  </tbody>\n",
       "</table>\n",
       "</div>"
      ],
      "text/plain": [
       "         sale        sum\n",
       "6     смирнов  195817.20\n",
       "0     андреев  124623.90\n",
       "5     петрова   94830.46\n",
       "2      иванов   94476.90\n",
       "3   кузнецова   72228.40\n",
       "1    васильев   45416.75\n",
       "8  филимонова   39020.80\n",
       "7     соколов   35183.50\n",
       "4    михайлов    4268.70"
      ]
     },
     "execution_count": 85,
     "metadata": {},
     "output_type": "execute_result"
    }
   ],
   "source": [
    "manager_revenue = data.query(\"month_deal == '2021-09' & status == 'оплачено'\")\n",
    "manager_revenue = manager_revenue.groupby('sale')['sum'].sum().reset_index().sort_values('sum', ascending=False)\n",
    "manager_revenue"
   ]
  },
  {
   "cell_type": "code",
   "execution_count": 86,
   "id": "acf623a0-085a-4fe8-9054-ea0602945766",
   "metadata": {},
   "outputs": [
    {
     "data": {
      "image/png": "[encoded data removed]",
      "text/plain": [
       "<Figure size 1000x700 with 1 Axes>"
      ]
     },
     "metadata": {},
     "output_type": "display_data"
    }
   ],
   "source": [
    "plt.figure(figsize=(10,7))\n",
    "sns.barplot(manager_revenue, x='sale', y='sum', color=\"#874CCC\")\n",
    "plt.xlabel('Фамилия менеджера')\n",
    "plt.ylabel('Выручка')\n",
    "plt.title('Изменение выручки по времени')\n",
    "plt.show()"
   ]
  },
  {
   "cell_type": "markdown",
   "id": "0ba1f872-dddc-46c2-a908-51ddbb098bb3",
   "metadata": {},
   "source": [
    "Вывод: менеджеры Смирнов и Андреев привлекли для компании больше всего денежных средств"
   ]
  },
  {
   "cell_type": "markdown",
   "id": "057332bc-56b9-43af-becd-fda156659be1",
   "metadata": {},
   "source": [
    "#### Вопрос 4"
   ]
  },
  {
   "cell_type": "code",
   "execution_count": 89,
   "id": "d4a10f4f-80c4-4e8b-b3d1-4bece5df1d46",
   "metadata": {},
   "outputs": [
    {
     "data": {
      "text/html": [
       "<div>\n",
       "<style scoped>\n",
       "    .dataframe tbody tr th:only-of-type {\n",
       "        vertical-align: middle;\n",
       "    }\n",
       "\n",
       "    .dataframe tbody tr th {\n",
       "        vertical-align: top;\n",
       "    }\n",
       "\n",
       "    .dataframe thead th {\n",
       "        text-align: right;\n",
       "    }\n",
       "</style>\n",
       "<table border=\"1\" class=\"dataframe\">\n",
       "  <thead>\n",
       "    <tr style=\"text-align: right;\">\n",
       "      <th></th>\n",
       "      <th>new/current</th>\n",
       "      <th>count</th>\n",
       "    </tr>\n",
       "  </thead>\n",
       "  <tbody>\n",
       "    <tr>\n",
       "      <th>0</th>\n",
       "      <td>текущая</td>\n",
       "      <td>91</td>\n",
       "    </tr>\n",
       "    <tr>\n",
       "      <th>1</th>\n",
       "      <td>новая</td>\n",
       "      <td>34</td>\n",
       "    </tr>\n",
       "  </tbody>\n",
       "</table>\n",
       "</div>"
      ],
      "text/plain": [
       "  new/current  count\n",
       "0     текущая     91\n",
       "1       новая     34"
      ]
     },
     "execution_count": 89,
     "metadata": {},
     "output_type": "execute_result"
    }
   ],
   "source": [
    "count_new_current = data.query(\"month_deal == '2021-10'\")\n",
    "count_new_current = count_new_current['new/current'].value_counts().reset_index()\n",
    "count_new_current"
   ]
  },
  {
   "cell_type": "code",
   "execution_count": 90,
   "id": "08023aef-8496-40c8-bbb9-82074ac52aea",
   "metadata": {},
   "outputs": [
    {
     "data": {
      "image/png": "[encoded data removed]",
      "text/plain": [
       "<Figure size 1000x700 with 1 Axes>"
      ]
     },
     "metadata": {},
     "output_type": "display_data"
    }
   ],
   "source": [
    "plt.figure(figsize=(10, 7))\n",
    "sns.barplot(count_new_current, y='count', x='new/current', palette=[\"#10439F\", \"#874CCC\"])\n",
    "plt.ylabel('Число сделок')\n",
    "plt.xlabel('Статус сделки')\n",
    "plt.title('Соотношение новых и текущих сделок')\n",
    "plt.show()"
   ]
  },
  {
   "cell_type": "markdown",
   "id": "f7164e07-0642-4414-8b56-e3bf87a58b0e",
   "metadata": {},
   "source": [
    "Вывод: в октябре 2021 года преобладают текущие сделки"
   ]
  },
  {
   "cell_type": "markdown",
   "id": "c952dc8e-5998-4461-8021-fef74cea0be2",
   "metadata": {},
   "source": [
    "#### Вопрос 5"
   ]
  },
  {
   "cell_type": "code",
   "execution_count": 93,
   "id": "b6be6bde-d472-44b6-a41e-46f0ccdfc82a",
   "metadata": {},
   "outputs": [
    {
     "data": {
      "text/plain": [
       "77"
      ]
     },
     "execution_count": 93,
     "metadata": {},
     "output_type": "execute_result"
    }
   ],
   "source": [
    "original = data.query(\"month_deal == '2021-05' & '2021-06-01' <= receiving_date <= '2021-06-30'\")\n",
    "original['sum'].count()"
   ]
  },
  {
   "cell_type": "markdown",
   "id": "fe40d06c-fe8f-4adc-9597-886f560c3742",
   "metadata": {},
   "source": [
    "Вывод: 77 оригиналов договора по майским сделкам было получено в июне 2021"
   ]
  },
  {
   "cell_type": "markdown",
   "id": "a5951f37-c0bc-44ab-b422-11dcc21822f4",
   "metadata": {},
   "source": [
    "#### Задание"
   ]
  },
  {
   "cell_type": "markdown",
   "id": "53e5c5e6-8dde-4058-8115-1d4f75d2d158",
   "metadata": {},
   "source": [
    "Выделим из даты получения оригинала месяц и год для того, чтобы сравнить его с периодом"
   ]
  },
  {
   "cell_type": "code",
   "execution_count": 97,
   "id": "34292901-8c9d-4e2d-b95b-208f9e24da56",
   "metadata": {},
   "outputs": [
    {
     "data": {
      "text/html": [
       "<div>\n",
       "<style scoped>\n",
       "    .dataframe tbody tr th:only-of-type {\n",
       "        vertical-align: middle;\n",
       "    }\n",
       "\n",
       "    .dataframe tbody tr th {\n",
       "        vertical-align: top;\n",
       "    }\n",
       "\n",
       "    .dataframe thead th {\n",
       "        text-align: right;\n",
       "    }\n",
       "</style>\n",
       "<table border=\"1\" class=\"dataframe\">\n",
       "  <thead>\n",
       "    <tr style=\"text-align: right;\">\n",
       "      <th></th>\n",
       "      <th>client_id</th>\n",
       "      <th>sum</th>\n",
       "      <th>status</th>\n",
       "      <th>sale</th>\n",
       "      <th>new/current</th>\n",
       "      <th>document</th>\n",
       "      <th>receiving_date</th>\n",
       "      <th>month_deal</th>\n",
       "      <th>year_month_rd</th>\n",
       "    </tr>\n",
       "  </thead>\n",
       "  <tbody>\n",
       "    <tr>\n",
       "      <th>2</th>\n",
       "      <td>14.0</td>\n",
       "      <td>5452.7</td>\n",
       "      <td>оплачено</td>\n",
       "      <td>петрова</td>\n",
       "      <td>новая</td>\n",
       "      <td>оригинал</td>\n",
       "      <td>2021-07-26</td>\n",
       "      <td>2021-05</td>\n",
       "      <td>2021-07</td>\n",
       "    </tr>\n",
       "    <tr>\n",
       "      <th>3</th>\n",
       "      <td>15.0</td>\n",
       "      <td>13991.7</td>\n",
       "      <td>оплачено</td>\n",
       "      <td>иванов</td>\n",
       "      <td>текущая</td>\n",
       "      <td>оригинал</td>\n",
       "      <td>2021-06-08</td>\n",
       "      <td>2021-05</td>\n",
       "      <td>2021-06</td>\n",
       "    </tr>\n",
       "    <tr>\n",
       "      <th>4</th>\n",
       "      <td>16.0</td>\n",
       "      <td>719.7</td>\n",
       "      <td>оплачено</td>\n",
       "      <td>иванов</td>\n",
       "      <td>текущая</td>\n",
       "      <td>оригинал</td>\n",
       "      <td>2021-06-08</td>\n",
       "      <td>2021-05</td>\n",
       "      <td>2021-06</td>\n",
       "    </tr>\n",
       "    <tr>\n",
       "      <th>5</th>\n",
       "      <td>18.0</td>\n",
       "      <td>4253.7</td>\n",
       "      <td>оплачено</td>\n",
       "      <td>иванов</td>\n",
       "      <td>текущая</td>\n",
       "      <td>оригинал</td>\n",
       "      <td>2021-07-07</td>\n",
       "      <td>2021-05</td>\n",
       "      <td>2021-07</td>\n",
       "    </tr>\n",
       "    <tr>\n",
       "      <th>6</th>\n",
       "      <td>20.0</td>\n",
       "      <td>5796.7</td>\n",
       "      <td>оплачено</td>\n",
       "      <td>кузнецова</td>\n",
       "      <td>текущая</td>\n",
       "      <td>оригинал</td>\n",
       "      <td>2021-07-15</td>\n",
       "      <td>2021-05</td>\n",
       "      <td>2021-07</td>\n",
       "    </tr>\n",
       "  </tbody>\n",
       "</table>\n",
       "</div>"
      ],
      "text/plain": [
       "   client_id      sum    status       sale new/current  document  \\\n",
       "2       14.0   5452.7  оплачено    петрова       новая  оригинал   \n",
       "3       15.0  13991.7  оплачено     иванов     текущая  оригинал   \n",
       "4       16.0    719.7  оплачено     иванов     текущая  оригинал   \n",
       "5       18.0   4253.7  оплачено     иванов     текущая  оригинал   \n",
       "6       20.0   5796.7  оплачено  кузнецова     текущая  оригинал   \n",
       "\n",
       "  receiving_date month_deal year_month_rd  \n",
       "2     2021-07-26    2021-05       2021-07  \n",
       "3     2021-06-08    2021-05       2021-06  \n",
       "4     2021-06-08    2021-05       2021-06  \n",
       "5     2021-07-07    2021-05       2021-07  \n",
       "6     2021-07-15    2021-05       2021-07  "
      ]
     },
     "execution_count": 97,
     "metadata": {},
     "output_type": "execute_result"
    }
   ],
   "source": [
    "data['year_month_rd'] = data['receiving_date'].dt.to_period('M').astype(str)\n",
    "data.head()"
   ]
  },
  {
   "cell_type": "markdown",
   "id": "24ef19a2-fe3b-4d4b-b7d3-f0fd566df33a",
   "metadata": {},
   "source": [
    "Возьмем только те данные, в которых месяц сделки май или июнь 2021 и дата получения орингинала после июня 2021"
   ]
  },
  {
   "cell_type": "code",
   "execution_count": 99,
   "id": "415eb242-60cf-45ef-8a60-99ef2842580e",
   "metadata": {},
   "outputs": [
    {
     "data": {
      "text/html": [
       "<div>\n",
       "<style scoped>\n",
       "    .dataframe tbody tr th:only-of-type {\n",
       "        vertical-align: middle;\n",
       "    }\n",
       "\n",
       "    .dataframe tbody tr th {\n",
       "        vertical-align: top;\n",
       "    }\n",
       "\n",
       "    .dataframe thead th {\n",
       "        text-align: right;\n",
       "    }\n",
       "</style>\n",
       "<table border=\"1\" class=\"dataframe\">\n",
       "  <thead>\n",
       "    <tr style=\"text-align: right;\">\n",
       "      <th></th>\n",
       "      <th>client_id</th>\n",
       "      <th>sum</th>\n",
       "      <th>status</th>\n",
       "      <th>sale</th>\n",
       "      <th>new/current</th>\n",
       "      <th>document</th>\n",
       "      <th>receiving_date</th>\n",
       "      <th>month_deal</th>\n",
       "      <th>year_month_rd</th>\n",
       "    </tr>\n",
       "  </thead>\n",
       "  <tbody>\n",
       "    <tr>\n",
       "      <th>2</th>\n",
       "      <td>14.0</td>\n",
       "      <td>5452.7</td>\n",
       "      <td>оплачено</td>\n",
       "      <td>петрова</td>\n",
       "      <td>новая</td>\n",
       "      <td>оригинал</td>\n",
       "      <td>2021-07-26</td>\n",
       "      <td>2021-05</td>\n",
       "      <td>2021-07</td>\n",
       "    </tr>\n",
       "    <tr>\n",
       "      <th>5</th>\n",
       "      <td>18.0</td>\n",
       "      <td>4253.7</td>\n",
       "      <td>оплачено</td>\n",
       "      <td>иванов</td>\n",
       "      <td>текущая</td>\n",
       "      <td>оригинал</td>\n",
       "      <td>2021-07-07</td>\n",
       "      <td>2021-05</td>\n",
       "      <td>2021-07</td>\n",
       "    </tr>\n",
       "    <tr>\n",
       "      <th>6</th>\n",
       "      <td>20.0</td>\n",
       "      <td>5796.7</td>\n",
       "      <td>оплачено</td>\n",
       "      <td>кузнецова</td>\n",
       "      <td>текущая</td>\n",
       "      <td>оригинал</td>\n",
       "      <td>2021-07-15</td>\n",
       "      <td>2021-05</td>\n",
       "      <td>2021-07</td>\n",
       "    </tr>\n",
       "    <tr>\n",
       "      <th>7</th>\n",
       "      <td>21.0</td>\n",
       "      <td>3613.7</td>\n",
       "      <td>оплачено</td>\n",
       "      <td>кузнецова</td>\n",
       "      <td>текущая</td>\n",
       "      <td>оригинал</td>\n",
       "      <td>2021-10-13</td>\n",
       "      <td>2021-05</td>\n",
       "      <td>2021-10</td>\n",
       "    </tr>\n",
       "    <tr>\n",
       "      <th>12</th>\n",
       "      <td>32.0</td>\n",
       "      <td>7353.9</td>\n",
       "      <td>оплачено</td>\n",
       "      <td>филимонова</td>\n",
       "      <td>текущая</td>\n",
       "      <td>оригинал</td>\n",
       "      <td>2021-07-09</td>\n",
       "      <td>2021-05</td>\n",
       "      <td>2021-07</td>\n",
       "    </tr>\n",
       "  </tbody>\n",
       "</table>\n",
       "</div>"
      ],
      "text/plain": [
       "    client_id     sum    status        sale new/current  document  \\\n",
       "2        14.0  5452.7  оплачено     петрова       новая  оригинал   \n",
       "5        18.0  4253.7  оплачено      иванов     текущая  оригинал   \n",
       "6        20.0  5796.7  оплачено   кузнецова     текущая  оригинал   \n",
       "7        21.0  3613.7  оплачено   кузнецова     текущая  оригинал   \n",
       "12       32.0  7353.9  оплачено  филимонова     текущая  оригинал   \n",
       "\n",
       "   receiving_date month_deal year_month_rd  \n",
       "2      2021-07-26    2021-05       2021-07  \n",
       "5      2021-07-07    2021-05       2021-07  \n",
       "6      2021-07-15    2021-05       2021-07  \n",
       "7      2021-10-13    2021-05       2021-10  \n",
       "12     2021-07-09    2021-05       2021-07  "
      ]
     },
     "execution_count": 99,
     "metadata": {},
     "output_type": "execute_result"
    }
   ],
   "source": [
    "remains = data.query(\"(month_deal == '2021-05' or month_deal == '2021-06') and (year_month_rd != '2021-05' and year_month_rd != '2021-06')\")\n",
    "remains.head()"
   ]
  },
  {
   "cell_type": "code",
   "execution_count": 100,
   "id": "aaba0c8c-b490-447b-9e9c-1186dac7bc31",
   "metadata": {},
   "outputs": [],
   "source": [
    "def manager_bonus(row):\n",
    "    \"\"\"\n",
    "    Данная функция определяет бонус для менеджера на основе условий\n",
    "    \"\"\"\n",
    "    if row['new/current'] == 'новая':\n",
    "        if row['status'] == 'оплачено':\n",
    "           return round(row['sum'] * 0.07, 2)\n",
    "    elif row['new/current'] == 'текущая':\n",
    "        if row['status'] != 'просрочено':\n",
    "            if row['sum'] > 10000:\n",
    "                return round(row['sum'] * 0.05, 2)\n",
    "            elif row['sum'] <= 10000:\n",
    "                return round(row['sum'] * 0.03, 2)\n",
    "    return 0    "
   ]
  },
  {
   "cell_type": "code",
   "execution_count": 101,
   "id": "d92f8238-2c79-4c83-bf9e-0c1e9e23da8e",
   "metadata": {},
   "outputs": [
    {
     "data": {
      "text/html": [
       "<div>\n",
       "<style scoped>\n",
       "    .dataframe tbody tr th:only-of-type {\n",
       "        vertical-align: middle;\n",
       "    }\n",
       "\n",
       "    .dataframe tbody tr th {\n",
       "        vertical-align: top;\n",
       "    }\n",
       "\n",
       "    .dataframe thead th {\n",
       "        text-align: right;\n",
       "    }\n",
       "</style>\n",
       "<table border=\"1\" class=\"dataframe\">\n",
       "  <thead>\n",
       "    <tr style=\"text-align: right;\">\n",
       "      <th></th>\n",
       "      <th>client_id</th>\n",
       "      <th>sum</th>\n",
       "      <th>status</th>\n",
       "      <th>sale</th>\n",
       "      <th>new/current</th>\n",
       "      <th>document</th>\n",
       "      <th>receiving_date</th>\n",
       "      <th>month_deal</th>\n",
       "      <th>year_month_rd</th>\n",
       "      <th>potential_bonus</th>\n",
       "    </tr>\n",
       "  </thead>\n",
       "  <tbody>\n",
       "    <tr>\n",
       "      <th>2</th>\n",
       "      <td>14.0</td>\n",
       "      <td>5452.7</td>\n",
       "      <td>оплачено</td>\n",
       "      <td>петрова</td>\n",
       "      <td>новая</td>\n",
       "      <td>оригинал</td>\n",
       "      <td>2021-07-26</td>\n",
       "      <td>2021-05</td>\n",
       "      <td>2021-07</td>\n",
       "      <td>381.69</td>\n",
       "    </tr>\n",
       "    <tr>\n",
       "      <th>5</th>\n",
       "      <td>18.0</td>\n",
       "      <td>4253.7</td>\n",
       "      <td>оплачено</td>\n",
       "      <td>иванов</td>\n",
       "      <td>текущая</td>\n",
       "      <td>оригинал</td>\n",
       "      <td>2021-07-07</td>\n",
       "      <td>2021-05</td>\n",
       "      <td>2021-07</td>\n",
       "      <td>127.61</td>\n",
       "    </tr>\n",
       "    <tr>\n",
       "      <th>6</th>\n",
       "      <td>20.0</td>\n",
       "      <td>5796.7</td>\n",
       "      <td>оплачено</td>\n",
       "      <td>кузнецова</td>\n",
       "      <td>текущая</td>\n",
       "      <td>оригинал</td>\n",
       "      <td>2021-07-15</td>\n",
       "      <td>2021-05</td>\n",
       "      <td>2021-07</td>\n",
       "      <td>173.90</td>\n",
       "    </tr>\n",
       "    <tr>\n",
       "      <th>7</th>\n",
       "      <td>21.0</td>\n",
       "      <td>3613.7</td>\n",
       "      <td>оплачено</td>\n",
       "      <td>кузнецова</td>\n",
       "      <td>текущая</td>\n",
       "      <td>оригинал</td>\n",
       "      <td>2021-10-13</td>\n",
       "      <td>2021-05</td>\n",
       "      <td>2021-10</td>\n",
       "      <td>108.41</td>\n",
       "    </tr>\n",
       "    <tr>\n",
       "      <th>12</th>\n",
       "      <td>32.0</td>\n",
       "      <td>7353.9</td>\n",
       "      <td>оплачено</td>\n",
       "      <td>филимонова</td>\n",
       "      <td>текущая</td>\n",
       "      <td>оригинал</td>\n",
       "      <td>2021-07-09</td>\n",
       "      <td>2021-05</td>\n",
       "      <td>2021-07</td>\n",
       "      <td>220.62</td>\n",
       "    </tr>\n",
       "  </tbody>\n",
       "</table>\n",
       "</div>"
      ],
      "text/plain": [
       "    client_id     sum    status        sale new/current  document  \\\n",
       "2        14.0  5452.7  оплачено     петрова       новая  оригинал   \n",
       "5        18.0  4253.7  оплачено      иванов     текущая  оригинал   \n",
       "6        20.0  5796.7  оплачено   кузнецова     текущая  оригинал   \n",
       "7        21.0  3613.7  оплачено   кузнецова     текущая  оригинал   \n",
       "12       32.0  7353.9  оплачено  филимонова     текущая  оригинал   \n",
       "\n",
       "   receiving_date month_deal year_month_rd  potential_bonus  \n",
       "2      2021-07-26    2021-05       2021-07           381.69  \n",
       "5      2021-07-07    2021-05       2021-07           127.61  \n",
       "6      2021-07-15    2021-05       2021-07           173.90  \n",
       "7      2021-10-13    2021-05       2021-10           108.41  \n",
       "12     2021-07-09    2021-05       2021-07           220.62  "
      ]
     },
     "execution_count": 101,
     "metadata": {},
     "output_type": "execute_result"
    }
   ],
   "source": [
    "remains['potential_bonus'] = remains.apply(manager_bonus, axis=1)\n",
    "remains.head()"
   ]
  },
  {
   "cell_type": "code",
   "execution_count": 102,
   "id": "b4c83211-255a-4be2-8e7f-68c7c523a6c7",
   "metadata": {},
   "outputs": [
    {
     "data": {
      "text/html": [
       "<div>\n",
       "<style scoped>\n",
       "    .dataframe tbody tr th:only-of-type {\n",
       "        vertical-align: middle;\n",
       "    }\n",
       "\n",
       "    .dataframe tbody tr th {\n",
       "        vertical-align: top;\n",
       "    }\n",
       "\n",
       "    .dataframe thead th {\n",
       "        text-align: right;\n",
       "    }\n",
       "</style>\n",
       "<table border=\"1\" class=\"dataframe\">\n",
       "  <thead>\n",
       "    <tr style=\"text-align: right;\">\n",
       "      <th></th>\n",
       "      <th>sale</th>\n",
       "      <th>potential_bonus</th>\n",
       "    </tr>\n",
       "  </thead>\n",
       "  <tbody>\n",
       "    <tr>\n",
       "      <th>4</th>\n",
       "      <td>петрова</td>\n",
       "      <td>10871.64</td>\n",
       "    </tr>\n",
       "    <tr>\n",
       "      <th>6</th>\n",
       "      <td>смирнов</td>\n",
       "      <td>7152.02</td>\n",
       "    </tr>\n",
       "    <tr>\n",
       "      <th>2</th>\n",
       "      <td>иванов</td>\n",
       "      <td>5579.34</td>\n",
       "    </tr>\n",
       "    <tr>\n",
       "      <th>5</th>\n",
       "      <td>селиванов</td>\n",
       "      <td>5238.86</td>\n",
       "    </tr>\n",
       "    <tr>\n",
       "      <th>3</th>\n",
       "      <td>кузнецова</td>\n",
       "      <td>4496.94</td>\n",
       "    </tr>\n",
       "    <tr>\n",
       "      <th>0</th>\n",
       "      <td>андреев</td>\n",
       "      <td>3864.88</td>\n",
       "    </tr>\n",
       "    <tr>\n",
       "      <th>8</th>\n",
       "      <td>филимонова</td>\n",
       "      <td>2317.96</td>\n",
       "    </tr>\n",
       "    <tr>\n",
       "      <th>1</th>\n",
       "      <td>васильев</td>\n",
       "      <td>953.88</td>\n",
       "    </tr>\n",
       "    <tr>\n",
       "      <th>7</th>\n",
       "      <td>соколов</td>\n",
       "      <td>269.21</td>\n",
       "    </tr>\n",
       "  </tbody>\n",
       "</table>\n",
       "</div>"
      ],
      "text/plain": [
       "         sale  potential_bonus\n",
       "4     петрова         10871.64\n",
       "6     смирнов          7152.02\n",
       "2      иванов          5579.34\n",
       "5   селиванов          5238.86\n",
       "3   кузнецова          4496.94\n",
       "0     андреев          3864.88\n",
       "8  филимонова          2317.96\n",
       "1    васильев           953.88\n",
       "7     соколов           269.21"
      ]
     },
     "execution_count": 102,
     "metadata": {},
     "output_type": "execute_result"
    }
   ],
   "source": [
    "pt_bonus = remains.groupby('sale')['potential_bonus'].sum().reset_index().sort_values('potential_bonus', ascending=False)\n",
    "pt_bonus"
   ]
  },
  {
   "cell_type": "code",
   "execution_count": 103,
   "id": "47dab276-a9dd-44e4-a0b7-1c480632a9cd",
   "metadata": {},
   "outputs": [
    {
     "data": {
      "image/png": "[encoded data removed]",
      "text/plain": [
       "<Figure size 1000x700 with 1 Axes>"
      ]
     },
     "metadata": {},
     "output_type": "display_data"
    }
   ],
   "source": [
    "plt.figure(figsize=(10,7))\n",
    "sns.barplot(pt_bonus, x='sale', y='potential_bonus', color=\"#874CCC\")\n",
    "plt.ylabel('Потенциальный бонус')\n",
    "plt.xlabel('Менеджер')\n",
    "plt.title('Остаток каждого из менеджеров на 01.07.2021')\n",
    "plt.show()"
   ]
  },
  {
   "cell_type": "code",
   "execution_count": null,
   "id": "21f6acb2-3f5c-458a-af18-0e9a6fbc9f98",
   "metadata": {},
   "outputs": [],
   "source": []
  }
 ],
 "metadata": {
  "kernelspec": {
   "display_name": "Python 3 (ipykernel)",
   "language": "python",
   "name": "python3"
  },
  "language_info": {
   "codemirror_mode": {
    "name": "ipython",
    "version": 3
   },
   "file_extension": ".py",
   "mimetype": "text/x-python",
   "name": "python",
   "nbconvert_exporter": "python",
   "pygments_lexer": "ipython3",
   "version": "3.11.7"
  }
 },
 "nbformat": 4,
 "nbformat_minor": 5
}
